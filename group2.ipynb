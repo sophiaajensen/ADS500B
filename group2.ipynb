{
 "cells": [
  {
   "cell_type": "code",
   "execution_count": 3,
   "id": "d74d70e3",
   "metadata": {},
   "outputs": [],
   "source": [
    "import numpy as np\n",
    "import pandas as pd\n",
    "import matplotlib as mpl\n",
    "import matplotlib.pyplot as plt\n",
    "import seaborn as sns\n",
    "from sklearn.model_selection import train_test_split\n",
    "from sklearn.linear_model import LogisticRegression\n",
    "from sklearn.metrics import accuracy_score, classification_report, confusion_matrix"
   ]
  },
  {
   "cell_type": "markdown",
   "id": "dbfa4d7d",
   "metadata": {},
   "source": [
    "## Part 1"
   ]
  },
  {
   "cell_type": "code",
   "execution_count": 5,
   "id": "21668aac",
   "metadata": {},
   "outputs": [
    {
     "data": {
      "text/html": [
       "<div>\n",
       "<style scoped>\n",
       "    .dataframe tbody tr th:only-of-type {\n",
       "        vertical-align: middle;\n",
       "    }\n",
       "\n",
       "    .dataframe tbody tr th {\n",
       "        vertical-align: top;\n",
       "    }\n",
       "\n",
       "    .dataframe thead th {\n",
       "        text-align: right;\n",
       "    }\n",
       "</style>\n",
       "<table border=\"1\" class=\"dataframe\">\n",
       "  <thead>\n",
       "    <tr style=\"text-align: right;\">\n",
       "      <th></th>\n",
       "      <th>age</th>\n",
       "      <th>job</th>\n",
       "      <th>marital</th>\n",
       "      <th>education</th>\n",
       "      <th>default</th>\n",
       "      <th>balance</th>\n",
       "      <th>housing</th>\n",
       "      <th>loan</th>\n",
       "      <th>contact</th>\n",
       "      <th>day</th>\n",
       "      <th>month</th>\n",
       "      <th>duration</th>\n",
       "      <th>campaign</th>\n",
       "      <th>pdays</th>\n",
       "      <th>previous</th>\n",
       "      <th>poutcome</th>\n",
       "      <th>deposit</th>\n",
       "    </tr>\n",
       "  </thead>\n",
       "  <tbody>\n",
       "    <tr>\n",
       "      <th>0</th>\n",
       "      <td>58.0</td>\n",
       "      <td>management</td>\n",
       "      <td>married</td>\n",
       "      <td>tertiary</td>\n",
       "      <td>no</td>\n",
       "      <td>2143</td>\n",
       "      <td>yes</td>\n",
       "      <td>no</td>\n",
       "      <td>unknown</td>\n",
       "      <td>5</td>\n",
       "      <td>may</td>\n",
       "      <td>261</td>\n",
       "      <td>1</td>\n",
       "      <td>-1</td>\n",
       "      <td>0</td>\n",
       "      <td>unknown</td>\n",
       "      <td>no</td>\n",
       "    </tr>\n",
       "    <tr>\n",
       "      <th>1</th>\n",
       "      <td>44.0</td>\n",
       "      <td>technician</td>\n",
       "      <td>single</td>\n",
       "      <td>secondary</td>\n",
       "      <td>no</td>\n",
       "      <td>29</td>\n",
       "      <td>yes</td>\n",
       "      <td>no</td>\n",
       "      <td>unknown</td>\n",
       "      <td>5</td>\n",
       "      <td>may</td>\n",
       "      <td>151</td>\n",
       "      <td>1</td>\n",
       "      <td>-1</td>\n",
       "      <td>0</td>\n",
       "      <td>unknown</td>\n",
       "      <td>no</td>\n",
       "    </tr>\n",
       "    <tr>\n",
       "      <th>2</th>\n",
       "      <td>33.0</td>\n",
       "      <td>entrepreneur</td>\n",
       "      <td>married</td>\n",
       "      <td>secondary</td>\n",
       "      <td>no</td>\n",
       "      <td>2</td>\n",
       "      <td>yes</td>\n",
       "      <td>yes</td>\n",
       "      <td>unknown</td>\n",
       "      <td>5</td>\n",
       "      <td>may</td>\n",
       "      <td>76</td>\n",
       "      <td>1</td>\n",
       "      <td>-1</td>\n",
       "      <td>0</td>\n",
       "      <td>unknown</td>\n",
       "      <td>no</td>\n",
       "    </tr>\n",
       "    <tr>\n",
       "      <th>3</th>\n",
       "      <td>47.0</td>\n",
       "      <td>blue-collar</td>\n",
       "      <td>married</td>\n",
       "      <td>unknown</td>\n",
       "      <td>no</td>\n",
       "      <td>1506</td>\n",
       "      <td>yes</td>\n",
       "      <td>no</td>\n",
       "      <td>unknown</td>\n",
       "      <td>5</td>\n",
       "      <td>may</td>\n",
       "      <td>92</td>\n",
       "      <td>1</td>\n",
       "      <td>-1</td>\n",
       "      <td>0</td>\n",
       "      <td>unknown</td>\n",
       "      <td>no</td>\n",
       "    </tr>\n",
       "    <tr>\n",
       "      <th>4</th>\n",
       "      <td>33.0</td>\n",
       "      <td>unknown</td>\n",
       "      <td>single</td>\n",
       "      <td>unknown</td>\n",
       "      <td>no</td>\n",
       "      <td>1</td>\n",
       "      <td>no</td>\n",
       "      <td>no</td>\n",
       "      <td>NaN</td>\n",
       "      <td>5</td>\n",
       "      <td>may</td>\n",
       "      <td>198</td>\n",
       "      <td>1</td>\n",
       "      <td>-1</td>\n",
       "      <td>0</td>\n",
       "      <td>unknown</td>\n",
       "      <td>no</td>\n",
       "    </tr>\n",
       "  </tbody>\n",
       "</table>\n",
       "</div>"
      ],
      "text/plain": [
       "    age           job  marital  education default  balance housing loan  \\\n",
       "0  58.0    management  married   tertiary      no     2143     yes   no   \n",
       "1  44.0    technician   single  secondary      no       29     yes   no   \n",
       "2  33.0  entrepreneur  married  secondary      no        2     yes  yes   \n",
       "3  47.0   blue-collar  married    unknown      no     1506     yes   no   \n",
       "4  33.0       unknown   single    unknown      no        1      no   no   \n",
       "\n",
       "   contact  day month  duration  campaign  pdays  previous poutcome deposit  \n",
       "0  unknown    5   may       261         1     -1         0  unknown      no  \n",
       "1  unknown    5   may       151         1     -1         0  unknown      no  \n",
       "2  unknown    5   may        76         1     -1         0  unknown      no  \n",
       "3  unknown    5   may        92         1     -1         0  unknown      no  \n",
       "4      NaN    5   may       198         1     -1         0  unknown      no  "
      ]
     },
     "execution_count": 5,
     "metadata": {},
     "output_type": "execute_result"
    }
   ],
   "source": [
    "# Importing bank_marketing.csv as a dataframe using Pandas\n",
    "bank = pd.read_csv('bank_marketing.csv', header=0, sep=';')\n",
    "bank.head()"
   ]
  },
  {
   "cell_type": "code",
   "execution_count": 7,
   "id": "012be51b",
   "metadata": {},
   "outputs": [
    {
     "data": {
      "text/plain": [
       "(45211, 17)"
      ]
     },
     "execution_count": 7,
     "metadata": {},
     "output_type": "execute_result"
    }
   ],
   "source": [
    "#number of rows and columns in the bank dataset\n",
    "bank.shape"
   ]
  },
  {
   "cell_type": "code",
   "execution_count": 9,
   "id": "75dd78ff",
   "metadata": {},
   "outputs": [
    {
     "data": {
      "text/plain": [
       "age          float64\n",
       "job           object\n",
       "marital       object\n",
       "education     object\n",
       "default       object\n",
       "balance        int64\n",
       "housing       object\n",
       "loan          object\n",
       "contact       object\n",
       "day            int64\n",
       "month         object\n",
       "duration       int64\n",
       "campaign       int64\n",
       "pdays          int64\n",
       "previous       int64\n",
       "poutcome      object\n",
       "deposit       object\n",
       "dtype: object"
      ]
     },
     "execution_count": 9,
     "metadata": {},
     "output_type": "execute_result"
    }
   ],
   "source": [
    "#type of data in each column \n",
    "bank.dtypes"
   ]
  },
  {
   "cell_type": "code",
   "execution_count": 11,
   "id": "944ceb66",
   "metadata": {},
   "outputs": [
    {
     "data": {
      "text/plain": [
       "0"
      ]
     },
     "execution_count": 11,
     "metadata": {},
     "output_type": "execute_result"
    }
   ],
   "source": [
    "#checking for any redundant data in dataframe \n",
    "duplicated_rows = bank.duplicated().sum()\n",
    "duplicated_rows"
   ]
  },
  {
   "cell_type": "code",
   "execution_count": 13,
   "id": "6f225257",
   "metadata": {},
   "outputs": [
    {
     "data": {
      "text/html": [
       "<div>\n",
       "<style scoped>\n",
       "    .dataframe tbody tr th:only-of-type {\n",
       "        vertical-align: middle;\n",
       "    }\n",
       "\n",
       "    .dataframe tbody tr th {\n",
       "        vertical-align: top;\n",
       "    }\n",
       "\n",
       "    .dataframe thead th {\n",
       "        text-align: right;\n",
       "    }\n",
       "</style>\n",
       "<table border=\"1\" class=\"dataframe\">\n",
       "  <thead>\n",
       "    <tr style=\"text-align: right;\">\n",
       "      <th></th>\n",
       "      <th>age</th>\n",
       "      <th>balance</th>\n",
       "      <th>day</th>\n",
       "      <th>duration</th>\n",
       "      <th>campaign</th>\n",
       "      <th>pdays</th>\n",
       "      <th>previous</th>\n",
       "    </tr>\n",
       "  </thead>\n",
       "  <tbody>\n",
       "    <tr>\n",
       "      <th>count</th>\n",
       "      <td>43872.000000</td>\n",
       "      <td>45211.000000</td>\n",
       "      <td>45211.000000</td>\n",
       "      <td>45211.000000</td>\n",
       "      <td>45211.000000</td>\n",
       "      <td>45211.000000</td>\n",
       "      <td>45211.000000</td>\n",
       "    </tr>\n",
       "    <tr>\n",
       "      <th>mean</th>\n",
       "      <td>40.924781</td>\n",
       "      <td>1362.272058</td>\n",
       "      <td>15.806419</td>\n",
       "      <td>258.163080</td>\n",
       "      <td>2.763841</td>\n",
       "      <td>40.197828</td>\n",
       "      <td>0.580323</td>\n",
       "    </tr>\n",
       "    <tr>\n",
       "      <th>std</th>\n",
       "      <td>10.610835</td>\n",
       "      <td>3044.765829</td>\n",
       "      <td>8.322476</td>\n",
       "      <td>257.527812</td>\n",
       "      <td>3.098021</td>\n",
       "      <td>100.128746</td>\n",
       "      <td>2.303441</td>\n",
       "    </tr>\n",
       "    <tr>\n",
       "      <th>min</th>\n",
       "      <td>18.000000</td>\n",
       "      <td>-8019.000000</td>\n",
       "      <td>1.000000</td>\n",
       "      <td>0.000000</td>\n",
       "      <td>1.000000</td>\n",
       "      <td>-1.000000</td>\n",
       "      <td>0.000000</td>\n",
       "    </tr>\n",
       "    <tr>\n",
       "      <th>25%</th>\n",
       "      <td>33.000000</td>\n",
       "      <td>72.000000</td>\n",
       "      <td>8.000000</td>\n",
       "      <td>103.000000</td>\n",
       "      <td>1.000000</td>\n",
       "      <td>-1.000000</td>\n",
       "      <td>0.000000</td>\n",
       "    </tr>\n",
       "    <tr>\n",
       "      <th>50%</th>\n",
       "      <td>39.000000</td>\n",
       "      <td>448.000000</td>\n",
       "      <td>16.000000</td>\n",
       "      <td>180.000000</td>\n",
       "      <td>2.000000</td>\n",
       "      <td>-1.000000</td>\n",
       "      <td>0.000000</td>\n",
       "    </tr>\n",
       "    <tr>\n",
       "      <th>75%</th>\n",
       "      <td>48.000000</td>\n",
       "      <td>1428.000000</td>\n",
       "      <td>21.000000</td>\n",
       "      <td>319.000000</td>\n",
       "      <td>3.000000</td>\n",
       "      <td>-1.000000</td>\n",
       "      <td>0.000000</td>\n",
       "    </tr>\n",
       "    <tr>\n",
       "      <th>max</th>\n",
       "      <td>95.000000</td>\n",
       "      <td>102127.000000</td>\n",
       "      <td>31.000000</td>\n",
       "      <td>4918.000000</td>\n",
       "      <td>63.000000</td>\n",
       "      <td>871.000000</td>\n",
       "      <td>275.000000</td>\n",
       "    </tr>\n",
       "  </tbody>\n",
       "</table>\n",
       "</div>"
      ],
      "text/plain": [
       "                age        balance           day      duration      campaign  \\\n",
       "count  43872.000000   45211.000000  45211.000000  45211.000000  45211.000000   \n",
       "mean      40.924781    1362.272058     15.806419    258.163080      2.763841   \n",
       "std       10.610835    3044.765829      8.322476    257.527812      3.098021   \n",
       "min       18.000000   -8019.000000      1.000000      0.000000      1.000000   \n",
       "25%       33.000000      72.000000      8.000000    103.000000      1.000000   \n",
       "50%       39.000000     448.000000     16.000000    180.000000      2.000000   \n",
       "75%       48.000000    1428.000000     21.000000    319.000000      3.000000   \n",
       "max       95.000000  102127.000000     31.000000   4918.000000     63.000000   \n",
       "\n",
       "              pdays      previous  \n",
       "count  45211.000000  45211.000000  \n",
       "mean      40.197828      0.580323  \n",
       "std      100.128746      2.303441  \n",
       "min       -1.000000      0.000000  \n",
       "25%       -1.000000      0.000000  \n",
       "50%       -1.000000      0.000000  \n",
       "75%       -1.000000      0.000000  \n",
       "max      871.000000    275.000000  "
      ]
     },
     "execution_count": 13,
     "metadata": {},
     "output_type": "execute_result"
    }
   ],
   "source": [
    "#describe characteristics \n",
    "bank.describe()"
   ]
  },
  {
   "cell_type": "markdown",
   "id": "4eb7e70a",
   "metadata": {},
   "source": [
    "## Check for Outliers"
   ]
  },
  {
   "cell_type": "markdown",
   "id": "d0e4f30b",
   "metadata": {},
   "source": [
    "The chart above shows that the columns balance, duration, campaign, pdays, and have possible outliers based on the maximum value being significantly higher than the mean in the descriptive table above. "
   ]
  },
  {
   "cell_type": "code",
   "execution_count": 15,
   "id": "f7f9974b",
   "metadata": {},
   "outputs": [],
   "source": [
    "#create function that finds the number of outliers in a column of a dataframe\n",
    "def find_outliers(df, column):\n",
    "    #Calculate the interquartile range (IQR)\n",
    "    q1 = df[column].quantile(0.25) #find Q1\n",
    "    q3 = df[column].quantile(0.75) #find #Q3\n",
    "    iqr = q3 - q1 \n",
    "    \n",
    "    #calculate the lower and upper bound for outliers\n",
    "    lower_bound = q1 - 1.5 * iqr\n",
    "    upper_bound = q3 + 1.5 * iqr\n",
    "    \n",
    "    #find the outliers\n",
    "    outliers = df[(df[column] < lower_bound) | (df[column] > upper_bound)]\n",
    "    \n",
    "    return outliers #retirn the outliers\n"
   ]
  },
  {
   "cell_type": "code",
   "execution_count": 17,
   "id": "d702fef9",
   "metadata": {},
   "outputs": [
    {
     "data": {
      "image/png": "[encoded data removed]",
      "text/plain": [
       "<Figure size 800x400 with 1 Axes>"
      ]
     },
     "metadata": {},
     "output_type": "display_data"
    }
   ],
   "source": [
    "#plot boxplot of balance column\n",
    "fig = plt.figure(figsize = (8,4))\n",
    "sns.boxplot(data=bank['balance'])\n",
    "plt.xlabel('Customer')\n",
    "plt.ylabel('Bank Account Balance')\n",
    "plt.title('Balance Column')\n",
    "\n",
    "plt.show()\n"
   ]
  },
  {
   "cell_type": "code",
   "execution_count": 19,
   "id": "b4452faf",
   "metadata": {},
   "outputs": [
    {
     "data": {
      "text/plain": [
       "4729"
      ]
     },
     "execution_count": 19,
     "metadata": {},
     "output_type": "execute_result"
    }
   ],
   "source": [
    "#number outliers in balance column \n",
    "len(find_outliers(bank, 'balance'))"
   ]
  },
  {
   "cell_type": "code",
   "execution_count": 21,
   "id": "b39c2446",
   "metadata": {},
   "outputs": [
    {
     "data": {
      "image/png": "[encoded data removed]",
      "text/plain": [
       "<Figure size 800x400 with 1 Axes>"
      ]
     },
     "metadata": {},
     "output_type": "display_data"
    }
   ],
   "source": [
    "#plot boxplot of duration column \n",
    "fig = plt.figure(figsize = (8,4))\n",
    "sns.boxplot(data=bank['duration'])\n",
    "#labels\n",
    "plt.xlabel('Call')\n",
    "plt.ylabel('Duration')\n",
    "plt.title('Call Duration')\n",
    "plt.show()"
   ]
  },
  {
   "cell_type": "code",
   "execution_count": 23,
   "id": "58459752",
   "metadata": {},
   "outputs": [
    {
     "data": {
      "text/plain": [
       "3235"
      ]
     },
     "execution_count": 23,
     "metadata": {},
     "output_type": "execute_result"
    }
   ],
   "source": [
    "#number outliers in the duration column \n",
    "len(find_outliers(bank, 'duration'))"
   ]
  },
  {
   "cell_type": "code",
   "execution_count": 25,
   "id": "53c3d426",
   "metadata": {},
   "outputs": [
    {
     "data": {
      "image/png": "[encoded data removed]",
      "text/plain": [
       "<Figure size 800x400 with 1 Axes>"
      ]
     },
     "metadata": {},
     "output_type": "display_data"
    }
   ],
   "source": [
    "#plot boxplot of campaign column\n",
    "fig = plt.figure(figsize = (8,4))\n",
    "sns.boxplot(data=bank['campaign'])\n",
    "#labels\n",
    "plt.xlabel('Call')\n",
    "plt.ylabel('Campaign')\n",
    "plt.title('Campaign Column')\n",
    "plt.show()"
   ]
  },
  {
   "cell_type": "code",
   "execution_count": 27,
   "id": "c38676da",
   "metadata": {},
   "outputs": [
    {
     "data": {
      "text/plain": [
       "3064"
      ]
     },
     "execution_count": 27,
     "metadata": {},
     "output_type": "execute_result"
    }
   ],
   "source": [
    "#number outliers in the campaign column \n",
    "len(find_outliers(bank, 'campaign'))"
   ]
  },
  {
   "cell_type": "code",
   "execution_count": 29,
   "id": "63cd5ef4",
   "metadata": {},
   "outputs": [
    {
     "data": {
      "image/png": "[encoded data removed]",
      "text/plain": [
       "<Figure size 800x400 with 1 Axes>"
      ]
     },
     "metadata": {},
     "output_type": "display_data"
    }
   ],
   "source": [
    "#boxplot of pdays column \n",
    "fig = plt.figure(figsize = (8,4))\n",
    "sns.boxplot(data=bank['pdays'])\n",
    "plt.show()"
   ]
  },
  {
   "cell_type": "code",
   "execution_count": 31,
   "id": "8898cdbd",
   "metadata": {},
   "outputs": [
    {
     "data": {
      "text/plain": [
       "8257"
      ]
     },
     "execution_count": 31,
     "metadata": {},
     "output_type": "execute_result"
    }
   ],
   "source": [
    "#number outliers in the pdays column \n",
    "len(find_outliers(bank, 'pdays'))"
   ]
  },
  {
   "cell_type": "code",
   "execution_count": 33,
   "id": "bfbb5ca8",
   "metadata": {},
   "outputs": [
    {
     "data": {
      "image/png": "[encoded data removed]",
      "text/plain": [
       "<Figure size 800x400 with 1 Axes>"
      ]
     },
     "metadata": {},
     "output_type": "display_data"
    }
   ],
   "source": [
    "#boxplot of previous column \n",
    "fig = plt.figure(figsize = (8,4))\n",
    "sns.boxplot(data=bank['previous'])\n",
    "plt.show()"
   ]
  },
  {
   "cell_type": "code",
   "execution_count": 35,
   "id": "6751558f",
   "metadata": {},
   "outputs": [
    {
     "data": {
      "text/plain": [
       "8257"
      ]
     },
     "execution_count": 35,
     "metadata": {},
     "output_type": "execute_result"
    }
   ],
   "source": [
    "#number outliers in previous column \n",
    "len(find_outliers(bank, 'previous'))"
   ]
  },
  {
   "cell_type": "code",
   "execution_count": 37,
   "id": "0103d99b",
   "metadata": {},
   "outputs": [
    {
     "data": {
      "image/png": "[encoded data removed]",
      "text/plain": [
       "<Figure size 800x400 with 1 Axes>"
      ]
     },
     "metadata": {},
     "output_type": "display_data"
    }
   ],
   "source": [
    "#boxplot of age column\n",
    "fig = plt.figure(figsize = (8,4))\n",
    "sns.boxplot(data=bank['age'])\n",
    "plt.show()"
   ]
  },
  {
   "cell_type": "code",
   "execution_count": 39,
   "id": "c187b935",
   "metadata": {},
   "outputs": [
    {
     "data": {
      "text/plain": [
       "468"
      ]
     },
     "execution_count": 39,
     "metadata": {},
     "output_type": "execute_result"
    }
   ],
   "source": [
    "#number outliers in the age column \n",
    "len(find_outliers(bank, 'age'))"
   ]
  },
  {
   "cell_type": "code",
   "execution_count": 41,
   "id": "4e739f05",
   "metadata": {},
   "outputs": [
    {
     "name": "stdout",
     "output_type": "stream",
     "text": [
      "Job: ['management' 'technician' 'entrepreneur' 'blue-collar' 'unknown'\n",
      " 'retired' 'admin.' 'services' 'self-employed' 'unemployed' 'housemaid'\n",
      " 'student']\n",
      "Marital: ['married' 'single' 'divorced']\n",
      "Education: ['tertiary' 'secondary' 'unknown' 'primary']\n",
      "Default: ['no' 'yes' nan]\n",
      "Housing: ['yes' 'no']\n",
      "loan: ['no' 'yes']\n",
      "contact: ['unknown' nan 'cellular' 'telephone']\n",
      "Month: ['may' 'jun' 'jul' 'aug' 'oct' 'nov' 'dec' 'jan' 'feb' 'mar' 'apr' 'sep']\n",
      "poutcome: ['unknown' 'failure' 'other' 'success']\n",
      "Deposit: ['no' 'yes']\n"
     ]
    }
   ],
   "source": [
    "#checking columns to see all the different values used in object type data\n",
    "\n",
    "#job unique column values\n",
    "print('Job:', bank['job'].unique())\n",
    "#marital unique column values\n",
    "print('Marital:', bank['marital'].unique())\n",
    "#education unique column values\n",
    "print('Education:', bank['education'].unique())\n",
    "#default unique column values \n",
    "print('Default:', bank['default'].unique())\n",
    "#housing unique column values \n",
    "print('Housing:', bank['housing'].unique())\n",
    "#loan unique column values \n",
    "print('loan:', bank['loan'].unique())\n",
    "#contact unique column values \n",
    "print('contact:', bank['contact'].unique())\n",
    "#month unique column values \n",
    "print('Month:', bank['month'].unique())\n",
    "#poutcome unique column values \n",
    "print('poutcome:', bank['poutcome'].unique())\n",
    "#deposit unique column values \n",
    "print('Deposit:', bank['deposit'].unique())"
   ]
  },
  {
   "cell_type": "markdown",
   "id": "27282ca9",
   "metadata": {},
   "source": [
    "The values in the object columns takes normal values, no sign of any outliers or mistakes in the rows."
   ]
  },
  {
   "cell_type": "markdown",
   "id": "6d0cbd42",
   "metadata": {},
   "source": [
    "## Handling Missing Data"
   ]
  },
  {
   "cell_type": "code",
   "execution_count": 43,
   "id": "4a28c8b3",
   "metadata": {},
   "outputs": [
    {
     "data": {
      "text/plain": [
       "age             0\n",
       "job             0\n",
       "marital         0\n",
       "education       0\n",
       "default      1306\n",
       "balance         0\n",
       "housing         0\n",
       "loan            0\n",
       "contact      1383\n",
       "day             0\n",
       "month           0\n",
       "duration        0\n",
       "campaign        0\n",
       "pdays           0\n",
       "previous        0\n",
       "poutcome        0\n",
       "deposit         0\n",
       "dtype: int64"
      ]
     },
     "execution_count": 43,
     "metadata": {},
     "output_type": "execute_result"
    }
   ],
   "source": [
    "#each columns total missing data \n",
    "bank.isna().sum()\n",
    "#the output shows there is missing values in the columns age, default, and contact"
   ]
  },
  {
   "cell_type": "markdown",
   "id": "4c4e9e29",
   "metadata": {},
   "source": [
    "#### Age Column"
   ]
  },
  {
   "cell_type": "code",
   "execution_count": 45,
   "id": "5844a83a",
   "metadata": {},
   "outputs": [],
   "source": [
    "#find the mean for the age column and fill missing data with the mean\n",
    "bank['age'].fillna(bank['age'].mean(), inplace=True)"
   ]
  },
  {
   "cell_type": "markdown",
   "id": "c6072485",
   "metadata": {},
   "source": [
    "#### Default Column"
   ]
  },
  {
   "cell_type": "code",
   "execution_count": 47,
   "id": "69098ce7",
   "metadata": {},
   "outputs": [
    {
     "name": "stdout",
     "output_type": "stream",
     "text": [
      "Unique Values: ['no' 'yes']\n",
      "Default Mode: no\n"
     ]
    }
   ],
   "source": [
    "#show all unique values in the default column \n",
    "unique_default = bank['default'].unique()\n",
    "print('Unique Values:', unique_default)\n",
    "#find the mode \n",
    "mode= bank['default'].mode()[0]\n",
    "print('Default Mode:', mode)"
   ]
  },
  {
   "cell_type": "code",
   "execution_count": 49,
   "id": "19d0f2eb",
   "metadata": {},
   "outputs": [],
   "source": [
    "#fill missing values in default column with the mode\n",
    "bank['default'].fillna(mode, inplace=True)"
   ]
  },
  {
   "cell_type": "markdown",
   "id": "19e4b0b7",
   "metadata": {},
   "source": [
    "#### Contact Column"
   ]
  },
  {
   "cell_type": "code",
   "execution_count": 51,
   "id": "2fc1adb3",
   "metadata": {},
   "outputs": [],
   "source": [
    "#see all the value options in the contact column\n",
    "bank['contact'].unique()\n",
    "\n",
    "#fill missing values with 'unknown' contact option \n",
    "bank['contact'].fillna('unknown', inplace=True)"
   ]
  },
  {
   "cell_type": "code",
   "execution_count": 53,
   "id": "665987f9",
   "metadata": {},
   "outputs": [
    {
     "data": {
      "text/plain": [
       "age          0\n",
       "job          0\n",
       "marital      0\n",
       "education    0\n",
       "default      0\n",
       "balance      0\n",
       "housing      0\n",
       "loan         0\n",
       "contact      0\n",
       "day          0\n",
       "month        0\n",
       "duration     0\n",
       "campaign     0\n",
       "pdays        0\n",
       "previous     0\n",
       "poutcome     0\n",
       "deposit      0\n",
       "dtype: int64"
      ]
     },
     "execution_count": 53,
     "metadata": {},
     "output_type": "execute_result"
    }
   ],
   "source": [
    "#check to see missing values were resolved\n",
    "bank.isna().sum()"
   ]
  },
  {
   "cell_type": "code",
   "execution_count": 55,
   "id": "427f8aba",
   "metadata": {},
   "outputs": [],
   "source": [
    "#find the mean for the age column and fill missing data with the mean\n",
    "bank['age'].fillna(bank['age'].mean(), inplace=True)"
   ]
  },
  {
   "cell_type": "code",
   "execution_count": 57,
   "id": "3d5f6747",
   "metadata": {},
   "outputs": [
    {
     "name": "stdout",
     "output_type": "stream",
     "text": [
      "Unique Values: ['no' 'yes']\n",
      "Default Mode: no\n"
     ]
    }
   ],
   "source": [
    "#show all unique values in the default column \n",
    "unique_default = bank['default'].unique()\n",
    "print('Unique Values:', unique_default)\n",
    "#find the mode \n",
    "mode= bank['default'].mode()[0]\n",
    "print('Default Mode:', mode)\n",
    "#fill missing values in default column with the mode\n",
    "bank['default'].fillna(mode, inplace=True)"
   ]
  },
  {
   "cell_type": "code",
   "execution_count": 59,
   "id": "9c6d14af",
   "metadata": {},
   "outputs": [],
   "source": [
    "#see all the value options in the contact column\n",
    "bank['contact'].unique()\n",
    "\n",
    "#fill missing values with 'unknown' contact option \n",
    "bank['contact'].fillna('unknown', inplace=True)"
   ]
  },
  {
   "cell_type": "code",
   "execution_count": 61,
   "id": "990005a5",
   "metadata": {},
   "outputs": [
    {
     "ename": "KeyError",
     "evalue": "\"None of [Index(['job', 'marital', 'education', 'default', 'housing', 'loan', 'contact',\\n       'month', 'poutcome'],\\n      dtype='object')] are in the [columns]\"",
     "output_type": "error",
     "traceback": [
      "\u001b[1;31m---------------------------------------------------------------------------\u001b[0m",
      "\u001b[1;31mKeyError\u001b[0m                                  Traceback (most recent call last)",
      "Cell \u001b[1;32mIn[61], line 3\u001b[0m\n\u001b[0;32m      1\u001b[0m \u001b[38;5;66;03m# Select only categorical columns\u001b[39;00m\n\u001b[0;32m      2\u001b[0m categorical_cols \u001b[38;5;241m=\u001b[39m [\u001b[38;5;124m'\u001b[39m\u001b[38;5;124mjob\u001b[39m\u001b[38;5;124m'\u001b[39m, \u001b[38;5;124m'\u001b[39m\u001b[38;5;124mmarital\u001b[39m\u001b[38;5;124m'\u001b[39m, \u001b[38;5;124m'\u001b[39m\u001b[38;5;124meducation\u001b[39m\u001b[38;5;124m'\u001b[39m, \u001b[38;5;124m'\u001b[39m\u001b[38;5;124mdefault\u001b[39m\u001b[38;5;124m'\u001b[39m, \u001b[38;5;124m'\u001b[39m\u001b[38;5;124mhousing\u001b[39m\u001b[38;5;124m'\u001b[39m, \u001b[38;5;124m'\u001b[39m\u001b[38;5;124mloan\u001b[39m\u001b[38;5;124m'\u001b[39m, \u001b[38;5;124m'\u001b[39m\u001b[38;5;124mcontact\u001b[39m\u001b[38;5;124m'\u001b[39m, \u001b[38;5;124m'\u001b[39m\u001b[38;5;124mmonth\u001b[39m\u001b[38;5;124m'\u001b[39m, \u001b[38;5;124m'\u001b[39m\u001b[38;5;124mpoutcome\u001b[39m\u001b[38;5;124m'\u001b[39m]\n\u001b[1;32m----> 3\u001b[0m bank_categorical \u001b[38;5;241m=\u001b[39m bank[categorical_cols]\n\u001b[0;32m      5\u001b[0m \u001b[38;5;66;03m# One-hot encode categorical columns\u001b[39;00m\n\u001b[0;32m      6\u001b[0m bank_encoded \u001b[38;5;241m=\u001b[39m pd\u001b[38;5;241m.\u001b[39mget_dummies(bank_categorical, drop_first\u001b[38;5;241m=\u001b[39m\u001b[38;5;28;01mTrue\u001b[39;00m)\n",
      "File \u001b[1;32m~\\anaconda3\\Lib\\site-packages\\pandas\\core\\frame.py:3767\u001b[0m, in \u001b[0;36mDataFrame.__getitem__\u001b[1;34m(self, key)\u001b[0m\n\u001b[0;32m   3765\u001b[0m     \u001b[38;5;28;01mif\u001b[39;00m is_iterator(key):\n\u001b[0;32m   3766\u001b[0m         key \u001b[38;5;241m=\u001b[39m \u001b[38;5;28mlist\u001b[39m(key)\n\u001b[1;32m-> 3767\u001b[0m     indexer \u001b[38;5;241m=\u001b[39m \u001b[38;5;28mself\u001b[39m\u001b[38;5;241m.\u001b[39mcolumns\u001b[38;5;241m.\u001b[39m_get_indexer_strict(key, \u001b[38;5;124m\"\u001b[39m\u001b[38;5;124mcolumns\u001b[39m\u001b[38;5;124m\"\u001b[39m)[\u001b[38;5;241m1\u001b[39m]\n\u001b[0;32m   3769\u001b[0m \u001b[38;5;66;03m# take() does not accept boolean indexers\u001b[39;00m\n\u001b[0;32m   3770\u001b[0m \u001b[38;5;28;01mif\u001b[39;00m \u001b[38;5;28mgetattr\u001b[39m(indexer, \u001b[38;5;124m\"\u001b[39m\u001b[38;5;124mdtype\u001b[39m\u001b[38;5;124m\"\u001b[39m, \u001b[38;5;28;01mNone\u001b[39;00m) \u001b[38;5;241m==\u001b[39m \u001b[38;5;28mbool\u001b[39m:\n",
      "File \u001b[1;32m~\\anaconda3\\Lib\\site-packages\\pandas\\core\\indexes\\base.py:5877\u001b[0m, in \u001b[0;36mIndex._get_indexer_strict\u001b[1;34m(self, key, axis_name)\u001b[0m\n\u001b[0;32m   5874\u001b[0m \u001b[38;5;28;01melse\u001b[39;00m:\n\u001b[0;32m   5875\u001b[0m     keyarr, indexer, new_indexer \u001b[38;5;241m=\u001b[39m \u001b[38;5;28mself\u001b[39m\u001b[38;5;241m.\u001b[39m_reindex_non_unique(keyarr)\n\u001b[1;32m-> 5877\u001b[0m \u001b[38;5;28mself\u001b[39m\u001b[38;5;241m.\u001b[39m_raise_if_missing(keyarr, indexer, axis_name)\n\u001b[0;32m   5879\u001b[0m keyarr \u001b[38;5;241m=\u001b[39m \u001b[38;5;28mself\u001b[39m\u001b[38;5;241m.\u001b[39mtake(indexer)\n\u001b[0;32m   5880\u001b[0m \u001b[38;5;28;01mif\u001b[39;00m \u001b[38;5;28misinstance\u001b[39m(key, Index):\n\u001b[0;32m   5881\u001b[0m     \u001b[38;5;66;03m# GH 42790 - Preserve name from an Index\u001b[39;00m\n",
      "File \u001b[1;32m~\\anaconda3\\Lib\\site-packages\\pandas\\core\\indexes\\base.py:5938\u001b[0m, in \u001b[0;36mIndex._raise_if_missing\u001b[1;34m(self, key, indexer, axis_name)\u001b[0m\n\u001b[0;32m   5936\u001b[0m     \u001b[38;5;28;01mif\u001b[39;00m use_interval_msg:\n\u001b[0;32m   5937\u001b[0m         key \u001b[38;5;241m=\u001b[39m \u001b[38;5;28mlist\u001b[39m(key)\n\u001b[1;32m-> 5938\u001b[0m     \u001b[38;5;28;01mraise\u001b[39;00m \u001b[38;5;167;01mKeyError\u001b[39;00m(\u001b[38;5;124mf\u001b[39m\u001b[38;5;124m\"\u001b[39m\u001b[38;5;124mNone of [\u001b[39m\u001b[38;5;132;01m{\u001b[39;00mkey\u001b[38;5;132;01m}\u001b[39;00m\u001b[38;5;124m] are in the [\u001b[39m\u001b[38;5;132;01m{\u001b[39;00maxis_name\u001b[38;5;132;01m}\u001b[39;00m\u001b[38;5;124m]\u001b[39m\u001b[38;5;124m\"\u001b[39m)\n\u001b[0;32m   5940\u001b[0m not_found \u001b[38;5;241m=\u001b[39m \u001b[38;5;28mlist\u001b[39m(ensure_index(key)[missing_mask\u001b[38;5;241m.\u001b[39mnonzero()[\u001b[38;5;241m0\u001b[39m]]\u001b[38;5;241m.\u001b[39munique())\n\u001b[0;32m   5941\u001b[0m \u001b[38;5;28;01mraise\u001b[39;00m \u001b[38;5;167;01mKeyError\u001b[39;00m(\u001b[38;5;124mf\u001b[39m\u001b[38;5;124m\"\u001b[39m\u001b[38;5;132;01m{\u001b[39;00mnot_found\u001b[38;5;132;01m}\u001b[39;00m\u001b[38;5;124m not in index\u001b[39m\u001b[38;5;124m\"\u001b[39m)\n",
      "\u001b[1;31mKeyError\u001b[0m: \"None of [Index(['job', 'marital', 'education', 'default', 'housing', 'loan', 'contact',\\n       'month', 'poutcome'],\\n      dtype='object')] are in the [columns]\""
     ]
    }
   ],
   "source": [
    "# Select only categorical columns\n",
    "categorical_cols = ['job', 'marital', 'education', 'default', 'housing', 'loan', 'contact', 'month', 'poutcome']\n",
    "bank_categorical = bank[categorical_cols]\n",
    "\n",
    "# One-hot encode categorical columns\n",
    "bank_encoded = pd.get_dummies(bank_categorical, drop_first=True)"
   ]
  },
  {
   "cell_type": "code",
   "execution_count": null,
   "id": "060733d4",
   "metadata": {},
   "outputs": [],
   "source": [
    "# Combine one-hot encoded columns with the original DataFrame\n",
    "bank = pd.concat([bank, bank_encoded], axis=1)\n",
    "\n",
    "# Drop the original categorical columns\n",
    "bank.drop(categorical_cols, axis=1, inplace=True)\n",
    "\n",
    "# Define features (X) and target variable (y)\n",
    "X = bank.drop('deposit', axis=1)\n",
    "y = bank['deposit']\n",
    "\n",
    "# Train-test split\n",
    "X_train, X_test, y_train, y_test = train_test_split(X, y, test_size=0.2, random_state=42)\n",
    "\n",
    "# Choose a model (Logistic Regression)\n",
    "model = LogisticRegression()\n",
    "\n",
    "# Train the model\n",
    "model.fit(X_train, y_train)\n",
    "\n",
    "# Make predictions\n",
    "y_pred = model.predict(X_test)\n",
    "\n",
    "# Evaluate the model\n",
    "accuracy = accuracy_score(y_test, y_pred)\n",
    "conf_matrix = confusion_matrix(y_test, y_pred)\n",
    "classification_rep = classification_report(y_test, y_pred)\n",
    "\n",
    "# Print the results\n",
    "print(f'Accuracy: {accuracy}')\n",
    "print(f'Confusion Matrix:\\n{conf_matrix}')\n",
    "print(f'Classification Report:\\n{classification_rep}')"
   ]
  },
  {
   "cell_type": "markdown",
   "id": "98cd761f",
   "metadata": {},
   "source": [
    "The accuracy represents the overall correctness of the model's predictions. In this case, approximately 88.54% of predictions are correct. \n",
    "\n",
    "[[7784  168]\n",
    " [ 868  223]]\n",
    "True Positive (TP): 223 (correctly predicted 'yes')\n",
    "True Negative (TN): 7784 (correctly predicted 'no')\n",
    "False Positive (FP): 168 (incorrectly predicted 'yes' when it was 'no')\n",
    "False Negative (FN): 868 (incorrectly predicted 'no' when it was 'yes')\n",
    "\n",
    "             precision    recall  f1-score   support\n",
    "\n",
    "       no       0.90      0.98      0.94      7952\n",
    "      yes       0.57      0.20      0.30      1091\n",
    "Precision: Of the instances predicted as 'yes', 57% were correct.\n",
    "Recall: Of the actual 'yes' instances, 20% were correctly predicted.\n",
    "F1-score: The harmonic mean of precision and recall, providing a balance between the two metrics.\n",
    "\n",
    "The model performs well in predicting instances labeled as 'no,' with high precision and recall.\n",
    "However, the performance on predicting instances labeled as 'yes' is not as strong, with lower precision and recall.\n",
    "The weighted average F1-score is 0.86, indicating an overall reasonable balance between precision and recall.\n",
    "\n",
    "Depending on the specific goals and context of your application, you might want to adjust the model or explore other algorithms to improve performance on the minority class ('yes').\n",
    "\n",
    "Overall, the accuracy is relatively high, but it's essential to consider the context and specific requirements of your application to determine the most appropriate model evaluation metrics."
   ]
  },
  {
   "cell_type": "code",
   "execution_count": null,
   "id": "176ec905",
   "metadata": {},
   "outputs": [],
   "source": [
    "\n"
   ]
  },
  {
   "cell_type": "code",
   "execution_count": null,
   "id": "6ece86af",
   "metadata": {},
   "outputs": [],
   "source": [
    "from sklearn.cluster import KMeans\n",
    "from sklearn.preprocessing import StandardScaler"
   ]
  },
  {
   "cell_type": "code",
   "execution_count": null,
   "id": "204b30ab",
   "metadata": {},
   "outputs": [],
   "source": [
    "# Select numerical features for clustering\n",
    "numerical_features = bank.select_dtypes(include=['int64', 'float64'])\n"
   ]
  },
  {
   "cell_type": "code",
   "execution_count": null,
   "id": "e3c3bf79",
   "metadata": {},
   "outputs": [],
   "source": [
    "# Standardize the numerical features\n",
    "scaler = StandardScaler()\n",
    "numerical_features_scaled = scaler.fit_transform(numerical_features)"
   ]
  },
  {
   "cell_type": "code",
   "execution_count": null,
   "id": "e782c5f8",
   "metadata": {},
   "outputs": [],
   "source": [
    "# Choose the number of clusters \n",
    "num_clusters = 3"
   ]
  },
  {
   "cell_type": "code",
   "execution_count": null,
   "id": "fb617a02",
   "metadata": {
    "scrolled": true
   },
   "outputs": [],
   "source": [
    "# Apply k-means clustering\n",
    "kmeans = KMeans(n_clusters=num_clusters, random_state=42)\n",
    "bank['cluster'] = kmeans.fit_predict(numerical_features_scaled)"
   ]
  },
  {
   "cell_type": "code",
   "execution_count": null,
   "id": "01b383be",
   "metadata": {},
   "outputs": [],
   "source": [
    "# Visualize the clusters (using the first two numerical features for simplicity)\n",
    "plt.scatter(bank['balance'], bank['age'], c=bank['cluster'], cmap='viridis')\n",
    "plt.xlabel('Balance')\n",
    "plt.ylabel('Duration')\n",
    "plt.title('K-Means Clustering')\n",
    "plt.show()"
   ]
  },
  {
   "cell_type": "markdown",
   "id": "632bb3f4",
   "metadata": {},
   "source": [
    "Decision Trees:"
   ]
  },
  {
   "cell_type": "code",
   "execution_count": 63,
   "id": "89a82943",
   "metadata": {},
   "outputs": [
    {
     "name": "stdout",
     "output_type": "stream",
     "text": [
      "Decision Tree Accuracy: 0.8680747539533341\n",
      "              precision    recall  f1-score   support\n",
      "\n",
      "          no       0.92      0.93      0.93      7952\n",
      "         yes       0.45      0.45      0.45      1091\n",
      "\n",
      "    accuracy                           0.87      9043\n",
      "   macro avg       0.69      0.69      0.69      9043\n",
      "weighted avg       0.87      0.87      0.87      9043\n",
      "\n"
     ]
    }
   ],
   "source": [
    "from sklearn.model_selection import train_test_split\n",
    "from sklearn.tree import DecisionTreeClassifier\n",
    "from sklearn.metrics import accuracy_score, classification_report\n",
    "\n",
    "# Assuming 'data' is your DataFrame and 'deposit' is the target column\n",
    "X = bank.drop('deposit', axis=1)\n",
    "y = bank['deposit']\n",
    "\n",
    "# Split the data into training and testing sets\n",
    "X_train, X_test, y_train, y_test = train_test_split(X, y, test_size=0.2, random_state=42)\n",
    "\n",
    "# Create a Decision Tree model\n",
    "dt_model = DecisionTreeClassifier(random_state=42)\n",
    "\n",
    "# Fit the model on the training data\n",
    "dt_model.fit(X_train, y_train)\n",
    "\n",
    "# Make predictions on the testing data\n",
    "y_pred = dt_model.predict(X_test)\n",
    "\n",
    "# Evaluate the model\n",
    "accuracy = accuracy_score(y_test, y_pred)\n",
    "print(f\"Decision Tree Accuracy: {accuracy}\")\n",
    "print(classification_report(y_test, y_pred))\n"
   ]
  },
  {
   "cell_type": "markdown",
   "id": "9494cd3c",
   "metadata": {},
   "source": [
    "Random Forests:"
   ]
  },
  {
   "cell_type": "code",
   "execution_count": 65,
   "id": "e9a77ac1",
   "metadata": {},
   "outputs": [
    {
     "name": "stdout",
     "output_type": "stream",
     "text": [
      "Random Forest Accuracy: 0.9042353201371226\n",
      "              precision    recall  f1-score   support\n",
      "\n",
      "          no       0.92      0.97      0.95      7952\n",
      "         yes       0.67      0.40      0.50      1091\n",
      "\n",
      "    accuracy                           0.90      9043\n",
      "   macro avg       0.80      0.69      0.72      9043\n",
      "weighted avg       0.89      0.90      0.89      9043\n",
      "\n"
     ]
    }
   ],
   "source": [
    "from sklearn.ensemble import RandomForestClassifier\n",
    "\n",
    "# Create a Random Forest model\n",
    "rf_model = RandomForestClassifier(random_state=42)\n",
    "\n",
    "# Fit the model on the training data\n",
    "rf_model.fit(X_train, y_train)\n",
    "\n",
    "# Make predictions on the testing data\n",
    "y_pred_rf = rf_model.predict(X_test)\n",
    "\n",
    "# Evaluate the model\n",
    "accuracy_rf = accuracy_score(y_test, y_pred_rf)\n",
    "print(f\"Random Forest Accuracy: {accuracy_rf}\")\n",
    "print(classification_report(y_test, y_pred_rf))\n"
   ]
  },
  {
   "cell_type": "markdown",
   "id": "71bce955",
   "metadata": {},
   "source": [
    "Support Vector Machines:"
   ]
  },
  {
   "cell_type": "code",
   "execution_count": 66,
   "id": "3fc6b62d",
   "metadata": {},
   "outputs": [
    {
     "name": "stdout",
     "output_type": "stream",
     "text": [
      "SVM Accuracy: 0.9023554130266505\n",
      "              precision    recall  f1-score   support\n",
      "\n",
      "          no       0.92      0.98      0.95      7952\n",
      "         yes       0.69      0.35      0.46      1091\n",
      "\n",
      "    accuracy                           0.90      9043\n",
      "   macro avg       0.80      0.66      0.70      9043\n",
      "weighted avg       0.89      0.90      0.89      9043\n",
      "\n"
     ]
    }
   ],
   "source": [
    "from sklearn.svm import SVC\n",
    "from sklearn.preprocessing import StandardScaler\n",
    "from sklearn.pipeline import make_pipeline\n",
    "\n",
    "# Create a Support Vector Machine model with a pipeline for scaling\n",
    "svm_model = make_pipeline(StandardScaler(), SVC(random_state=42))\n",
    "\n",
    "# Fit the model on the training data\n",
    "svm_model.fit(X_train, y_train)\n",
    "\n",
    "# Make predictions on the testing data\n",
    "y_pred_svm = svm_model.predict(X_test)\n",
    "\n",
    "# Evaluate the model\n",
    "accuracy_svm = accuracy_score(y_test, y_pred_svm)\n",
    "print(f\"SVM Accuracy: {accuracy_svm}\")\n",
    "print(classification_report(y_test, y_pred_svm))\n"
   ]
  },
  {
   "cell_type": "code",
   "execution_count": null,
   "id": "4473b899",
   "metadata": {},
   "outputs": [],
   "source": []
  },
  {
   "cell_type": "code",
   "execution_count": null,
   "id": "1f52bec0",
   "metadata": {},
   "outputs": [],
   "source": []
  },
  {
   "cell_type": "code",
   "execution_count": null,
   "id": "5df19c22",
   "metadata": {},
   "outputs": [],
   "source": []
  },
  {
   "cell_type": "code",
   "execution_count": null,
   "id": "1bcfae8a",
   "metadata": {},
   "outputs": [],
   "source": []
  },
  {
   "cell_type": "code",
   "execution_count": null,
   "id": "d8c2fbc3",
   "metadata": {},
   "outputs": [],
   "source": []
  },
  {
   "cell_type": "code",
   "execution_count": null,
   "id": "da176499",
   "metadata": {},
   "outputs": [],
   "source": []
  },
  {
   "cell_type": "code",
   "execution_count": null,
   "id": "5fc5a767",
   "metadata": {},
   "outputs": [],
   "source": []
  },
  {
   "cell_type": "code",
   "execution_count": null,
   "id": "39c8948e",
   "metadata": {},
   "outputs": [],
   "source": []
  }
 ],
 "metadata": {
  "kernelspec": {
   "display_name": "Python 3 (ipykernel)",
   "language": "python",
   "name": "python3"
  },
  "language_info": {
   "codemirror_mode": {
    "name": "ipython",
    "version": 3
   },
   "file_extension": ".py",
   "mimetype": "text/x-python",
   "name": "python",
   "nbconvert_exporter": "python",
   "pygments_lexer": "ipython3",
   "version": "3.11.5"
  }
 },
 "nbformat": 4,
 "nbformat_minor": 5
}
