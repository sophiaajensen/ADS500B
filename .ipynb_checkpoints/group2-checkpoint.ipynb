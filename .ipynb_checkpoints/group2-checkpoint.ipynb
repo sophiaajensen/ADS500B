{
 "cells": [
  {
   "cell_type": "code",
   "execution_count": 1,
   "id": "d74d70e3",
   "metadata": {},
   "outputs": [],
   "source": [
    "import numpy as np\n",
    "import pandas as pd\n",
    "import matplotlib as mpl\n",
    "import matplotlib.pyplot as plt\n",
    "import seaborn as sns\n",
    "from sklearn.model_selection import train_test_split\n",
    "from sklearn.linear_model import LogisticRegression\n",
    "from sklearn.metrics import accuracy_score, classification_report, confusion_matrix\n",
    "\n",
    "import warnings\n",
    "\n",
    "# To ignore FutureWarning\n",
    "warnings.filterwarnings(\"ignore\", category=FutureWarning)"
   ]
  },
  {
   "cell_type": "markdown",
   "id": "dbfa4d7d",
   "metadata": {},
   "source": [
    "## Part 1"
   ]
  },
  {
   "cell_type": "code",
   "execution_count": 2,
   "id": "21668aac",
   "metadata": {},
   "outputs": [
    {
     "data": {
      "text/html": [
       "<div>\n",
       "<style scoped>\n",
       "    .dataframe tbody tr th:only-of-type {\n",
       "        vertical-align: middle;\n",
       "    }\n",
       "\n",
       "    .dataframe tbody tr th {\n",
       "        vertical-align: top;\n",
       "    }\n",
       "\n",
       "    .dataframe thead th {\n",
       "        text-align: right;\n",
       "    }\n",
       "</style>\n",
       "<table border=\"1\" class=\"dataframe\">\n",
       "  <thead>\n",
       "    <tr style=\"text-align: right;\">\n",
       "      <th></th>\n",
       "      <th>age</th>\n",
       "      <th>job</th>\n",
       "      <th>marital</th>\n",
       "      <th>education</th>\n",
       "      <th>default</th>\n",
       "      <th>balance</th>\n",
       "      <th>housing</th>\n",
       "      <th>loan</th>\n",
       "      <th>contact</th>\n",
       "      <th>day</th>\n",
       "      <th>month</th>\n",
       "      <th>duration</th>\n",
       "      <th>campaign</th>\n",
       "      <th>pdays</th>\n",
       "      <th>previous</th>\n",
       "      <th>poutcome</th>\n",
       "      <th>deposit</th>\n",
       "    </tr>\n",
       "  </thead>\n",
       "  <tbody>\n",
       "    <tr>\n",
       "      <th>0</th>\n",
       "      <td>58.0</td>\n",
       "      <td>management</td>\n",
       "      <td>married</td>\n",
       "      <td>tertiary</td>\n",
       "      <td>no</td>\n",
       "      <td>2143</td>\n",
       "      <td>yes</td>\n",
       "      <td>no</td>\n",
       "      <td>unknown</td>\n",
       "      <td>5</td>\n",
       "      <td>may</td>\n",
       "      <td>261</td>\n",
       "      <td>1</td>\n",
       "      <td>-1</td>\n",
       "      <td>0</td>\n",
       "      <td>unknown</td>\n",
       "      <td>no</td>\n",
       "    </tr>\n",
       "    <tr>\n",
       "      <th>1</th>\n",
       "      <td>44.0</td>\n",
       "      <td>technician</td>\n",
       "      <td>single</td>\n",
       "      <td>secondary</td>\n",
       "      <td>no</td>\n",
       "      <td>29</td>\n",
       "      <td>yes</td>\n",
       "      <td>no</td>\n",
       "      <td>unknown</td>\n",
       "      <td>5</td>\n",
       "      <td>may</td>\n",
       "      <td>151</td>\n",
       "      <td>1</td>\n",
       "      <td>-1</td>\n",
       "      <td>0</td>\n",
       "      <td>unknown</td>\n",
       "      <td>no</td>\n",
       "    </tr>\n",
       "    <tr>\n",
       "      <th>2</th>\n",
       "      <td>33.0</td>\n",
       "      <td>entrepreneur</td>\n",
       "      <td>married</td>\n",
       "      <td>secondary</td>\n",
       "      <td>no</td>\n",
       "      <td>2</td>\n",
       "      <td>yes</td>\n",
       "      <td>yes</td>\n",
       "      <td>unknown</td>\n",
       "      <td>5</td>\n",
       "      <td>may</td>\n",
       "      <td>76</td>\n",
       "      <td>1</td>\n",
       "      <td>-1</td>\n",
       "      <td>0</td>\n",
       "      <td>unknown</td>\n",
       "      <td>no</td>\n",
       "    </tr>\n",
       "    <tr>\n",
       "      <th>3</th>\n",
       "      <td>47.0</td>\n",
       "      <td>blue-collar</td>\n",
       "      <td>married</td>\n",
       "      <td>unknown</td>\n",
       "      <td>no</td>\n",
       "      <td>1506</td>\n",
       "      <td>yes</td>\n",
       "      <td>no</td>\n",
       "      <td>unknown</td>\n",
       "      <td>5</td>\n",
       "      <td>may</td>\n",
       "      <td>92</td>\n",
       "      <td>1</td>\n",
       "      <td>-1</td>\n",
       "      <td>0</td>\n",
       "      <td>unknown</td>\n",
       "      <td>no</td>\n",
       "    </tr>\n",
       "    <tr>\n",
       "      <th>4</th>\n",
       "      <td>33.0</td>\n",
       "      <td>unknown</td>\n",
       "      <td>single</td>\n",
       "      <td>unknown</td>\n",
       "      <td>no</td>\n",
       "      <td>1</td>\n",
       "      <td>no</td>\n",
       "      <td>no</td>\n",
       "      <td>NaN</td>\n",
       "      <td>5</td>\n",
       "      <td>may</td>\n",
       "      <td>198</td>\n",
       "      <td>1</td>\n",
       "      <td>-1</td>\n",
       "      <td>0</td>\n",
       "      <td>unknown</td>\n",
       "      <td>no</td>\n",
       "    </tr>\n",
       "  </tbody>\n",
       "</table>\n",
       "</div>"
      ],
      "text/plain": [
       "    age           job  marital  education default  balance housing loan  \\\n",
       "0  58.0    management  married   tertiary      no     2143     yes   no   \n",
       "1  44.0    technician   single  secondary      no       29     yes   no   \n",
       "2  33.0  entrepreneur  married  secondary      no        2     yes  yes   \n",
       "3  47.0   blue-collar  married    unknown      no     1506     yes   no   \n",
       "4  33.0       unknown   single    unknown      no        1      no   no   \n",
       "\n",
       "   contact  day month  duration  campaign  pdays  previous poutcome deposit  \n",
       "0  unknown    5   may       261         1     -1         0  unknown      no  \n",
       "1  unknown    5   may       151         1     -1         0  unknown      no  \n",
       "2  unknown    5   may        76         1     -1         0  unknown      no  \n",
       "3  unknown    5   may        92         1     -1         0  unknown      no  \n",
       "4      NaN    5   may       198         1     -1         0  unknown      no  "
      ]
     },
     "execution_count": 2,
     "metadata": {},
     "output_type": "execute_result"
    }
   ],
   "source": [
    "# Importing bank_marketing.csv as a dataframe using Pandas\n",
    "bank = pd.read_csv('bank_marketing.csv', header=0, sep=';')\n",
    "bank.head()"
   ]
  },
  {
   "cell_type": "code",
   "execution_count": 3,
   "id": "012be51b",
   "metadata": {},
   "outputs": [
    {
     "data": {
      "text/plain": [
       "(45211, 17)"
      ]
     },
     "execution_count": 3,
     "metadata": {},
     "output_type": "execute_result"
    }
   ],
   "source": [
    "#number of rows and columns in the bank dataset\n",
    "bank.shape"
   ]
  },
  {
   "cell_type": "markdown",
   "id": "453f27c3-ebe7-450c-8a92-a58f4fd41fd9",
   "metadata": {},
   "source": [
    "There are 17 columns and 45,211 rows in the dataframe."
   ]
  },
  {
   "cell_type": "code",
   "execution_count": 4,
   "id": "75dd78ff",
   "metadata": {},
   "outputs": [
    {
     "data": {
      "text/plain": [
       "age          float64\n",
       "job           object\n",
       "marital       object\n",
       "education     object\n",
       "default       object\n",
       "balance        int64\n",
       "housing       object\n",
       "loan          object\n",
       "contact       object\n",
       "day            int64\n",
       "month         object\n",
       "duration       int64\n",
       "campaign       int64\n",
       "pdays          int64\n",
       "previous       int64\n",
       "poutcome      object\n",
       "deposit       object\n",
       "dtype: object"
      ]
     },
     "execution_count": 4,
     "metadata": {},
     "output_type": "execute_result"
    }
   ],
   "source": [
    "#type of data in each column \n",
    "bank.dtypes"
   ]
  },
  {
   "cell_type": "code",
   "execution_count": 5,
   "id": "944ceb66",
   "metadata": {},
   "outputs": [
    {
     "data": {
      "text/plain": [
       "0"
      ]
     },
     "execution_count": 5,
     "metadata": {},
     "output_type": "execute_result"
    }
   ],
   "source": [
    "#checking for any redundant data in dataframe \n",
    "duplicated_rows = bank.duplicated().sum()\n",
    "duplicated_rows"
   ]
  },
  {
   "cell_type": "code",
   "execution_count": 6,
   "id": "6f225257",
   "metadata": {},
   "outputs": [
    {
     "data": {
      "text/html": [
       "<div>\n",
       "<style scoped>\n",
       "    .dataframe tbody tr th:only-of-type {\n",
       "        vertical-align: middle;\n",
       "    }\n",
       "\n",
       "    .dataframe tbody tr th {\n",
       "        vertical-align: top;\n",
       "    }\n",
       "\n",
       "    .dataframe thead th {\n",
       "        text-align: right;\n",
       "    }\n",
       "</style>\n",
       "<table border=\"1\" class=\"dataframe\">\n",
       "  <thead>\n",
       "    <tr style=\"text-align: right;\">\n",
       "      <th></th>\n",
       "      <th>age</th>\n",
       "      <th>balance</th>\n",
       "      <th>day</th>\n",
       "      <th>duration</th>\n",
       "      <th>campaign</th>\n",
       "      <th>pdays</th>\n",
       "      <th>previous</th>\n",
       "    </tr>\n",
       "  </thead>\n",
       "  <tbody>\n",
       "    <tr>\n",
       "      <th>count</th>\n",
       "      <td>43872.000000</td>\n",
       "      <td>45211.000000</td>\n",
       "      <td>45211.000000</td>\n",
       "      <td>45211.000000</td>\n",
       "      <td>45211.000000</td>\n",
       "      <td>45211.000000</td>\n",
       "      <td>45211.000000</td>\n",
       "    </tr>\n",
       "    <tr>\n",
       "      <th>mean</th>\n",
       "      <td>40.924781</td>\n",
       "      <td>1362.272058</td>\n",
       "      <td>15.806419</td>\n",
       "      <td>258.163080</td>\n",
       "      <td>2.763841</td>\n",
       "      <td>40.197828</td>\n",
       "      <td>0.580323</td>\n",
       "    </tr>\n",
       "    <tr>\n",
       "      <th>std</th>\n",
       "      <td>10.610835</td>\n",
       "      <td>3044.765829</td>\n",
       "      <td>8.322476</td>\n",
       "      <td>257.527812</td>\n",
       "      <td>3.098021</td>\n",
       "      <td>100.128746</td>\n",
       "      <td>2.303441</td>\n",
       "    </tr>\n",
       "    <tr>\n",
       "      <th>min</th>\n",
       "      <td>18.000000</td>\n",
       "      <td>-8019.000000</td>\n",
       "      <td>1.000000</td>\n",
       "      <td>0.000000</td>\n",
       "      <td>1.000000</td>\n",
       "      <td>-1.000000</td>\n",
       "      <td>0.000000</td>\n",
       "    </tr>\n",
       "    <tr>\n",
       "      <th>25%</th>\n",
       "      <td>33.000000</td>\n",
       "      <td>72.000000</td>\n",
       "      <td>8.000000</td>\n",
       "      <td>103.000000</td>\n",
       "      <td>1.000000</td>\n",
       "      <td>-1.000000</td>\n",
       "      <td>0.000000</td>\n",
       "    </tr>\n",
       "    <tr>\n",
       "      <th>50%</th>\n",
       "      <td>39.000000</td>\n",
       "      <td>448.000000</td>\n",
       "      <td>16.000000</td>\n",
       "      <td>180.000000</td>\n",
       "      <td>2.000000</td>\n",
       "      <td>-1.000000</td>\n",
       "      <td>0.000000</td>\n",
       "    </tr>\n",
       "    <tr>\n",
       "      <th>75%</th>\n",
       "      <td>48.000000</td>\n",
       "      <td>1428.000000</td>\n",
       "      <td>21.000000</td>\n",
       "      <td>319.000000</td>\n",
       "      <td>3.000000</td>\n",
       "      <td>-1.000000</td>\n",
       "      <td>0.000000</td>\n",
       "    </tr>\n",
       "    <tr>\n",
       "      <th>max</th>\n",
       "      <td>95.000000</td>\n",
       "      <td>102127.000000</td>\n",
       "      <td>31.000000</td>\n",
       "      <td>4918.000000</td>\n",
       "      <td>63.000000</td>\n",
       "      <td>871.000000</td>\n",
       "      <td>275.000000</td>\n",
       "    </tr>\n",
       "  </tbody>\n",
       "</table>\n",
       "</div>"
      ],
      "text/plain": [
       "                age        balance           day      duration      campaign  \\\n",
       "count  43872.000000   45211.000000  45211.000000  45211.000000  45211.000000   \n",
       "mean      40.924781    1362.272058     15.806419    258.163080      2.763841   \n",
       "std       10.610835    3044.765829      8.322476    257.527812      3.098021   \n",
       "min       18.000000   -8019.000000      1.000000      0.000000      1.000000   \n",
       "25%       33.000000      72.000000      8.000000    103.000000      1.000000   \n",
       "50%       39.000000     448.000000     16.000000    180.000000      2.000000   \n",
       "75%       48.000000    1428.000000     21.000000    319.000000      3.000000   \n",
       "max       95.000000  102127.000000     31.000000   4918.000000     63.000000   \n",
       "\n",
       "              pdays      previous  \n",
       "count  45211.000000  45211.000000  \n",
       "mean      40.197828      0.580323  \n",
       "std      100.128746      2.303441  \n",
       "min       -1.000000      0.000000  \n",
       "25%       -1.000000      0.000000  \n",
       "50%       -1.000000      0.000000  \n",
       "75%       -1.000000      0.000000  \n",
       "max      871.000000    275.000000  "
      ]
     },
     "execution_count": 6,
     "metadata": {},
     "output_type": "execute_result"
    }
   ],
   "source": [
    "#describe characteristics \n",
    "bank.describe()"
   ]
  },
  {
   "cell_type": "markdown",
   "id": "4eb7e70a",
   "metadata": {},
   "source": [
    "## Check for Outliers"
   ]
  },
  {
   "cell_type": "markdown",
   "id": "d0e4f30b",
   "metadata": {},
   "source": [
    "The chart above shows that the columns balance, duration, campaign, pdays, and previous have outliers based on the maximum value being significantly higher than the mean in the descriptive table above. "
   ]
  },
  {
   "cell_type": "code",
   "execution_count": 7,
   "id": "f7f9974b",
   "metadata": {},
   "outputs": [],
   "source": [
    "#create function that finds the number of outliers in a column of a dataframe\n",
    "def find_outliers(df, column):\n",
    "    #Calculate the interquartile range (IQR)\n",
    "    q1 = df[column].quantile(0.25) #find Q1\n",
    "    q3 = df[column].quantile(0.75) #find #Q3\n",
    "    iqr = q3 - q1 \n",
    "    \n",
    "    #calculate the lower and upper bound for outliers\n",
    "    lower_bound = q1 - 1.5 * iqr\n",
    "    upper_bound = q3 + 1.5 * iqr\n",
    "    \n",
    "    #find the outliers\n",
    "    outliers = df[(df[column] < lower_bound) | (df[column] > upper_bound)]\n",
    "    \n",
    "    return outliers #retirn the outliers\n"
   ]
  },
  {
   "cell_type": "code",
   "execution_count": 8,
   "id": "d702fef9",
   "metadata": {},
   "outputs": [
    {
     "data": {
      "image/png": "[encoded data removed]",
      "text/plain": [
       "<Figure size 576x288 with 1 Axes>"
      ]
     },
     "metadata": {
      "needs_background": "light"
     },
     "output_type": "display_data"
    }
   ],
   "source": [
    "#plot boxplot of balance column\n",
    "fig = plt.figure(figsize = (8,4))\n",
    "sns.boxplot(data=bank['balance'])\n",
    "plt.xlabel('Customer')\n",
    "plt.ylabel('Bank Account Balance')\n",
    "plt.title('Balance Column')\n",
    "\n",
    "plt.show()\n"
   ]
  },
  {
   "cell_type": "code",
   "execution_count": 9,
   "id": "b4452faf",
   "metadata": {},
   "outputs": [
    {
     "data": {
      "text/plain": [
       "4729"
      ]
     },
     "execution_count": 9,
     "metadata": {},
     "output_type": "execute_result"
    }
   ],
   "source": [
    "#number outliers in balance column \n",
    "len(find_outliers(bank, 'balance'))"
   ]
  },
  {
   "cell_type": "code",
   "execution_count": 10,
   "id": "b39c2446",
   "metadata": {},
   "outputs": [
    {
     "data": {
      "image/png": "[encoded data removed]",
      "text/plain": [
       "<Figure size 576x288 with 1 Axes>"
      ]
     },
     "metadata": {
      "needs_background": "light"
     },
     "output_type": "display_data"
    }
   ],
   "source": [
    "#plot boxplot of duration column \n",
    "fig = plt.figure(figsize = (8,4))\n",
    "sns.boxplot(data=bank['duration'])\n",
    "#labels\n",
    "plt.xlabel('Call')\n",
    "plt.ylabel('Duration')\n",
    "plt.title('Call Duration')\n",
    "plt.show()"
   ]
  },
  {
   "cell_type": "code",
   "execution_count": 11,
   "id": "58459752",
   "metadata": {},
   "outputs": [
    {
     "data": {
      "text/plain": [
       "3235"
      ]
     },
     "execution_count": 11,
     "metadata": {},
     "output_type": "execute_result"
    }
   ],
   "source": [
    "#number outliers in the duration column \n",
    "len(find_outliers(bank, 'duration'))"
   ]
  },
  {
   "cell_type": "code",
   "execution_count": 12,
   "id": "53c3d426",
   "metadata": {},
   "outputs": [
    {
     "data": {
      "image/png": "[encoded data removed]",
      "text/plain": [
       "<Figure size 576x288 with 1 Axes>"
      ]
     },
     "metadata": {
      "needs_background": "light"
     },
     "output_type": "display_data"
    }
   ],
   "source": [
    "#plot boxplot of campaign column\n",
    "fig = plt.figure(figsize = (8,4))\n",
    "sns.boxplot(data=bank['campaign'])\n",
    "#labels\n",
    "plt.xlabel('Call')\n",
    "plt.ylabel('Campaign')\n",
    "plt.title('Campaign Column')\n",
    "plt.show()"
   ]
  },
  {
   "cell_type": "code",
   "execution_count": 13,
   "id": "c38676da",
   "metadata": {},
   "outputs": [
    {
     "data": {
      "text/plain": [
       "3064"
      ]
     },
     "execution_count": 13,
     "metadata": {},
     "output_type": "execute_result"
    }
   ],
   "source": [
    "#number outliers in the campaign column \n",
    "len(find_outliers(bank, 'campaign'))"
   ]
  },
  {
   "cell_type": "code",
   "execution_count": 14,
   "id": "63cd5ef4",
   "metadata": {},
   "outputs": [
    {
     "data": {
      "image/png": "[encoded data removed]",
      "text/plain": [
       "<Figure size 576x288 with 1 Axes>"
      ]
     },
     "metadata": {
      "needs_background": "light"
     },
     "output_type": "display_data"
    }
   ],
   "source": [
    "#boxplot of pdays column \n",
    "fig = plt.figure(figsize = (8,4))\n",
    "sns.boxplot(data=bank['pdays'])\n",
    "plt.title('Pdays Column')\n",
    "plt.show()"
   ]
  },
  {
   "cell_type": "code",
   "execution_count": 15,
   "id": "8898cdbd",
   "metadata": {},
   "outputs": [
    {
     "data": {
      "text/plain": [
       "8257"
      ]
     },
     "execution_count": 15,
     "metadata": {},
     "output_type": "execute_result"
    }
   ],
   "source": [
    "#number outliers in the pdays column \n",
    "len(find_outliers(bank, 'pdays'))"
   ]
  },
  {
   "cell_type": "code",
   "execution_count": 16,
   "id": "bfbb5ca8",
   "metadata": {},
   "outputs": [
    {
     "data": {
      "image/png": "[encoded data removed]",
      "text/plain": [
       "<Figure size 576x288 with 1 Axes>"
      ]
     },
     "metadata": {
      "needs_background": "light"
     },
     "output_type": "display_data"
    }
   ],
   "source": [
    "#boxplot of previous column \n",
    "fig = plt.figure(figsize = (8,4))\n",
    "sns.boxplot(data=bank['previous'])\n",
    "plt.title('Previous Column')\n",
    "plt.show()"
   ]
  },
  {
   "cell_type": "code",
   "execution_count": 17,
   "id": "6751558f",
   "metadata": {},
   "outputs": [
    {
     "data": {
      "text/plain": [
       "8257"
      ]
     },
     "execution_count": 17,
     "metadata": {},
     "output_type": "execute_result"
    }
   ],
   "source": [
    "#number outliers in previous column \n",
    "len(find_outliers(bank, 'previous'))"
   ]
  },
  {
   "cell_type": "code",
   "execution_count": 18,
   "id": "0103d99b",
   "metadata": {},
   "outputs": [
    {
     "data": {
      "image/png": "[encoded data removed]",
      "text/plain": [
       "<Figure size 576x288 with 1 Axes>"
      ]
     },
     "metadata": {
      "needs_background": "light"
     },
     "output_type": "display_data"
    }
   ],
   "source": [
    "#boxplot of age column\n",
    "fig = plt.figure(figsize = (8,4))\n",
    "sns.boxplot(data=bank['age'])\n",
    "plt.title('Age Column')\n",
    "plt.show()"
   ]
  },
  {
   "cell_type": "code",
   "execution_count": 19,
   "id": "c187b935",
   "metadata": {},
   "outputs": [
    {
     "data": {
      "text/plain": [
       "468"
      ]
     },
     "execution_count": 19,
     "metadata": {},
     "output_type": "execute_result"
    }
   ],
   "source": [
    "#number outliers in the age column \n",
    "len(find_outliers(bank, 'age'))"
   ]
  },
  {
   "cell_type": "code",
   "execution_count": 20,
   "id": "4e739f05",
   "metadata": {},
   "outputs": [
    {
     "name": "stdout",
     "output_type": "stream",
     "text": [
      "Job: ['management' 'technician' 'entrepreneur' 'blue-collar' 'unknown'\n",
      " 'retired' 'admin.' 'services' 'self-employed' 'unemployed' 'housemaid'\n",
      " 'student']\n",
      "Marital: ['married' 'single' 'divorced']\n",
      "Education: ['tertiary' 'secondary' 'unknown' 'primary']\n",
      "Default: ['no' 'yes' nan]\n",
      "Housing: ['yes' 'no']\n",
      "loan: ['no' 'yes']\n",
      "contact: ['unknown' nan 'cellular' 'telephone']\n",
      "Month: ['may' 'jun' 'jul' 'aug' 'oct' 'nov' 'dec' 'jan' 'feb' 'mar' 'apr' 'sep']\n",
      "poutcome: ['unknown' 'failure' 'other' 'success']\n",
      "Deposit: ['no' 'yes']\n"
     ]
    }
   ],
   "source": [
    "#checking columns to see all the different values used in object type data\n",
    "\n",
    "#job unique column values\n",
    "print('Job:', bank['job'].unique())\n",
    "#marital unique column values\n",
    "print('Marital:', bank['marital'].unique())\n",
    "#education unique column values\n",
    "print('Education:', bank['education'].unique())\n",
    "#default unique column values \n",
    "print('Default:', bank['default'].unique())\n",
    "#housing unique column values \n",
    "print('Housing:', bank['housing'].unique())\n",
    "#loan unique column values \n",
    "print('loan:', bank['loan'].unique())\n",
    "#contact unique column values \n",
    "print('contact:', bank['contact'].unique())\n",
    "#month unique column values \n",
    "print('Month:', bank['month'].unique())\n",
    "#poutcome unique column values \n",
    "print('poutcome:', bank['poutcome'].unique())\n",
    "#deposit unique column values \n",
    "print('Deposit:', bank['deposit'].unique())"
   ]
  },
  {
   "cell_type": "markdown",
   "id": "27282ca9",
   "metadata": {},
   "source": [
    "The values in the object columns takes normal values, no sign of any outliers or mistakes in the rows, besides the missing values."
   ]
  },
  {
   "cell_type": "markdown",
   "id": "6d0cbd42",
   "metadata": {},
   "source": [
    "## Handling Missing Data"
   ]
  },
  {
   "cell_type": "code",
   "execution_count": 21,
   "id": "4a28c8b3",
   "metadata": {},
   "outputs": [
    {
     "data": {
      "text/plain": [
       "age          1339\n",
       "job             0\n",
       "marital         0\n",
       "education       0\n",
       "default      1306\n",
       "balance         0\n",
       "housing         0\n",
       "loan            0\n",
       "contact      1383\n",
       "day             0\n",
       "month           0\n",
       "duration        0\n",
       "campaign        0\n",
       "pdays           0\n",
       "previous        0\n",
       "poutcome        0\n",
       "deposit         0\n",
       "dtype: int64"
      ]
     },
     "execution_count": 21,
     "metadata": {},
     "output_type": "execute_result"
    }
   ],
   "source": [
    "#each columns total missing data \n",
    "bank.isna().sum()\n",
    "#the output shows there is missing values in the columns age, default, and contact"
   ]
  },
  {
   "cell_type": "markdown",
   "id": "1ecc50fe-8a89-40d2-afd2-c6b7fd820de3",
   "metadata": {},
   "source": [
    "There is missing data in three columns. Age has 1,339 missing values, the default column has 1,306 missing values, and the contact column has 1,383 missing values."
   ]
  },
  {
   "cell_type": "markdown",
   "id": "4c4e9e29",
   "metadata": {},
   "source": [
    "#### Age Column"
   ]
  },
  {
   "cell_type": "code",
   "execution_count": 22,
   "id": "5844a83a",
   "metadata": {},
   "outputs": [],
   "source": [
    "#find the mean for the age column and fill missing data with the mean\n",
    "bank['age'].fillna(bank['age'].mean(), inplace=True)"
   ]
  },
  {
   "cell_type": "markdown",
   "id": "c6072485",
   "metadata": {},
   "source": [
    "#### Default Column"
   ]
  },
  {
   "cell_type": "code",
   "execution_count": 23,
   "id": "69098ce7",
   "metadata": {},
   "outputs": [
    {
     "name": "stdout",
     "output_type": "stream",
     "text": [
      "Unique Values: ['no' 'yes' nan]\n",
      "Default Mode: no\n"
     ]
    }
   ],
   "source": [
    "#show all unique values in the default column \n",
    "unique_default = bank['default'].unique()\n",
    "print('Unique Values:', unique_default)\n",
    "#find the mode \n",
    "mode= bank['default'].mode()[0]\n",
    "print('Default Mode:', mode)"
   ]
  },
  {
   "cell_type": "code",
   "execution_count": 24,
   "id": "19d0f2eb",
   "metadata": {},
   "outputs": [],
   "source": [
    "#fill missing values in default column with the mode\n",
    "bank['default'].fillna(mode, inplace=True)"
   ]
  },
  {
   "cell_type": "markdown",
   "id": "19e4b0b7",
   "metadata": {},
   "source": [
    "#### Contact Column"
   ]
  },
  {
   "cell_type": "code",
   "execution_count": 25,
   "id": "2fc1adb3",
   "metadata": {},
   "outputs": [],
   "source": [
    "#see all the value options in the contact column\n",
    "bank['contact'].unique()\n",
    "\n",
    "#fill missing values with 'unknown' contact option \n",
    "bank['contact'].fillna('unknown', inplace=True)"
   ]
  },
  {
   "cell_type": "code",
   "execution_count": 26,
   "id": "665987f9",
   "metadata": {},
   "outputs": [
    {
     "data": {
      "text/plain": [
       "age          0\n",
       "job          0\n",
       "marital      0\n",
       "education    0\n",
       "default      0\n",
       "balance      0\n",
       "housing      0\n",
       "loan         0\n",
       "contact      0\n",
       "day          0\n",
       "month        0\n",
       "duration     0\n",
       "campaign     0\n",
       "pdays        0\n",
       "previous     0\n",
       "poutcome     0\n",
       "deposit      0\n",
       "dtype: int64"
      ]
     },
     "execution_count": 26,
     "metadata": {},
     "output_type": "execute_result"
    }
   ],
   "source": [
    "#check to see missing values were resolved\n",
    "bank.isna().sum()"
   ]
  },
  {
   "cell_type": "markdown",
   "id": "62a6350e-3f6f-43e6-abde-b4721cea4597",
   "metadata": {},
   "source": [
    "# Part 2\n",
    "Based on the data, going to take a closer look at \"age\""
   ]
  },
  {
   "cell_type": "code",
   "execution_count": 27,
   "id": "4abf5ddb-b01f-47bb-bbc6-967b7e84d53c",
   "metadata": {},
   "outputs": [
    {
     "data": {
      "text/plain": [
       "<seaborn.axisgrid.FacetGrid at 0x29ea2c5c400>"
      ]
     },
     "execution_count": 27,
     "metadata": {},
     "output_type": "execute_result"
    },
    {
     "data": {
      "image/png": "[encoded data removed]",
      "text/plain": [
       "<Figure size 360x360 with 1 Axes>"
      ]
     },
     "metadata": {
      "needs_background": "light"
     },
     "output_type": "display_data"
    }
   ],
   "source": [
    "#Create a histogram for age\n",
    "sns.displot(bank, x=\"age\", bins=20, kde=True)"
   ]
  },
  {
   "cell_type": "markdown",
   "id": "b4a27fc1-6527-4cf9-910d-ee5da71327c4",
   "metadata": {},
   "source": [
    "Seems like most people that were reached out to are between 30 and 50"
   ]
  },
  {
   "cell_type": "code",
   "execution_count": 28,
   "id": "34a91243-ece4-4f8d-916f-1113cc72a907",
   "metadata": {},
   "outputs": [
    {
     "data": {
      "text/plain": [
       "<seaborn.axisgrid.FacetGrid at 0x29ea29bef40>"
      ]
     },
     "execution_count": 28,
     "metadata": {},
     "output_type": "execute_result"
    },
    {
     "data": {
      "image/png": "[encoded data removed]",
      "text/plain": [
       "<Figure size 447.75x360 with 1 Axes>"
      ]
     },
     "metadata": {
      "needs_background": "light"
     },
     "output_type": "display_data"
    }
   ],
   "source": [
    "#Create a histogram for age, added the education level\n",
    "sns.displot(bank, x=\"age\", bins=20, hue=\"education\")"
   ]
  },
  {
   "cell_type": "markdown",
   "id": "8e42f72a-ef23-423a-b5cc-0291890c8458",
   "metadata": {},
   "source": [
    "Most people finished their secondary degree"
   ]
  },
  {
   "cell_type": "code",
   "execution_count": 29,
   "id": "3ed28126-8541-4d0c-a84e-4db0b86cd6ea",
   "metadata": {},
   "outputs": [
    {
     "data": {
      "text/plain": [
       "<seaborn.axisgrid.FacetGrid at 0x29ea2c4be50>"
      ]
     },
     "execution_count": 29,
     "metadata": {},
     "output_type": "execute_result"
    },
    {
     "data": {
      "image/png": "[encoded data removed]",
      "text/plain": [
       "<Figure size 439x360 with 1 Axes>"
      ]
     },
     "metadata": {
      "needs_background": "light"
     },
     "output_type": "display_data"
    }
   ],
   "source": [
    "#Taking a closer look at the marital status\n",
    "sns.displot(bank, x=\"age\", bins=20, hue=\"marital\",element=\"step\")"
   ]
  },
  {
   "cell_type": "code",
   "execution_count": 30,
   "id": "973c6eed-5277-4e50-bd93-854e13ba8e04",
   "metadata": {},
   "outputs": [
    {
     "data": {
      "text/plain": [
       "<AxesSubplot:xlabel='age', ylabel='balance'>"
      ]
     },
     "execution_count": 30,
     "metadata": {},
     "output_type": "execute_result"
    },
    {
     "data": {
      "image/png": "[encoded data removed]",
      "text/plain": [
       "<Figure size 1152x576 with 1 Axes>"
      ]
     },
     "metadata": {
      "needs_background": "light"
     },
     "output_type": "display_data"
    }
   ],
   "source": [
    "#Lets compare balance and age in a scatterplot\n",
    "#Looking at the housing and personal loan at the same time\n",
    "plt.figure(figsize=(16,8))\n",
    "sns.scatterplot(data=bank, x=\"age\", y=\"balance\", hue=\"housing\", style=\"loan\")"
   ]
  },
  {
   "cell_type": "markdown",
   "id": "8aba5660-fd73-4fdb-a683-31230b083f41",
   "metadata": {},
   "source": [
    "Based on the scatter, it seems like people who has higher bank balance mostly do not have housing nor personal loan, and they tend to be older"
   ]
  },
  {
   "cell_type": "code",
   "execution_count": 31,
   "id": "3297a293-513c-4321-9f40-2a7cd8c3f6d6",
   "metadata": {},
   "outputs": [],
   "source": [
    "corr = bank.corr()"
   ]
  },
  {
   "cell_type": "code",
   "execution_count": 32,
   "id": "ccdedbab-0af5-449f-b0f9-248a36a81a50",
   "metadata": {},
   "outputs": [
    {
     "data": {
      "image/png": "[encoded data removed]",
      "text/plain": [
       "<Figure size 800x400 with 2 Axes>"
      ]
     },
     "metadata": {
      "needs_background": "light"
     },
     "output_type": "display_data"
    }
   ],
   "source": [
    "# Looking at the correlation through heatmap\n",
    "\n",
    "plt.figure(figsize=(8,4), dpi =100)\n",
    "sns.heatmap(corr,annot=True,fmt=\".2f\", linewidth=.5)\n",
    "plt.show()"
   ]
  },
  {
   "cell_type": "markdown",
   "id": "2eeaa8a0-c7ef-4f05-878d-3b727ed763d8",
   "metadata": {},
   "source": [
    "Seems like that is very little to no correlation between the numeric fields except maybe pdays and previous"
   ]
  },
  {
   "cell_type": "code",
   "execution_count": 33,
   "id": "f080c1b3-aa7d-41b2-81f5-ba77a51de7db",
   "metadata": {},
   "outputs": [
    {
     "data": {
      "text/plain": [
       "<seaborn.axisgrid.FacetGrid at 0x29ea4c1ffa0>"
      ]
     },
     "execution_count": 33,
     "metadata": {},
     "output_type": "execute_result"
    },
    {
     "data": {
      "image/png": "[encoded data removed]",
      "text/plain": [
       "<Figure size 446.125x360 with 1 Axes>"
      ]
     },
     "metadata": {
      "needs_background": "light"
     },
     "output_type": "display_data"
    }
   ],
   "source": [
    "sns.displot(bank, x=\"deposit\",hue=\"contact\")"
   ]
  },
  {
   "cell_type": "code",
   "execution_count": 34,
   "id": "dd7ce61c-6781-463a-9642-b57a7d2d0043",
   "metadata": {},
   "outputs": [
    {
     "data": {
      "text/plain": [
       "no     39922\n",
       "yes     5289\n",
       "Name: deposit, dtype: int64"
      ]
     },
     "execution_count": 34,
     "metadata": {},
     "output_type": "execute_result"
    }
   ],
   "source": [
    "bank[\"deposit\"].value_counts()"
   ]
  },
  {
   "cell_type": "markdown",
   "id": "2fd10057-cd3a-4ad4-a758-46648dd0f360",
   "metadata": {},
   "source": [
    "Based on the \"deposit\" column result, seems like the campaign only has 11.7% success rate."
   ]
  },
  {
   "cell_type": "code",
   "execution_count": 35,
   "id": "496eb919-423e-4294-8f0d-37f069231e7b",
   "metadata": {},
   "outputs": [
    {
     "data": {
      "text/plain": [
       "deposit  contact  \n",
       "no       cellular     24165\n",
       "         telephone     2435\n",
       "         unknown      13322\n",
       "yes      cellular      4245\n",
       "         telephone      374\n",
       "         unknown        670\n",
       "dtype: int64"
      ]
     },
     "execution_count": 35,
     "metadata": {},
     "output_type": "execute_result"
    }
   ],
   "source": [
    "#We will be looking at out of the deposit outcome, what methods of contact were used\n",
    "bank[[\"deposit\",\"contact\"]].groupby([\"deposit\",\"contact\"]).size()"
   ]
  },
  {
   "cell_type": "code",
   "execution_count": 36,
   "id": "279e867c-564b-4ce7-ad48-84d4b181edbd",
   "metadata": {},
   "outputs": [
    {
     "name": "stdout",
     "output_type": "stream",
     "text": [
      "Cellular Success Rate is  0.15 %\n",
      "Telephone Success Rate is  0.13 %\n",
      "Unknown Success Rate is  0.05 %\n"
     ]
    }
   ],
   "source": [
    "print(\"Cellular Success Rate is \",round(4245/(24165+4245),2),\"%\")\n",
    "print(\"Telephone Success Rate is \",round(374/(2435+374),2),\"%\")\n",
    "print(\"Unknown Success Rate is \",round(670/(13322+670),2),\"%\")"
   ]
  },
  {
   "cell_type": "code",
   "execution_count": 37,
   "id": "29d63331-ae27-4d49-8292-5a2474b65b5b",
   "metadata": {},
   "outputs": [
    {
     "data": {
      "text/plain": [
       "<seaborn.axisgrid.FacetGrid at 0x29ea36f2160>"
      ]
     },
     "execution_count": 37,
     "metadata": {},
     "output_type": "execute_result"
    },
    {
     "data": {
      "image/png": "[encoded data removed]",
      "text/plain": [
       "<Figure size 413.25x360 with 1 Axes>"
      ]
     },
     "metadata": {
      "needs_background": "light"
     },
     "output_type": "display_data"
    }
   ],
   "source": [
    "sns.displot(bank, x=\"duration\", bins=30, hue=\"deposit\")"
   ]
  },
  {
   "cell_type": "markdown",
   "id": "ff9ae311-9cde-455d-bdb6-61b129cbff79",
   "metadata": {},
   "source": [
    "Based on the data above, it seems like the duration histogram is heavily right skewed. We can try applying a log distribution here."
   ]
  },
  {
   "cell_type": "code",
   "execution_count": 38,
   "id": "952ef38c-c1d8-4a23-b300-3c43f13dc83d",
   "metadata": {},
   "outputs": [
    {
     "data": {
      "text/html": [
       "<div>\n",
       "<style scoped>\n",
       "    .dataframe tbody tr th:only-of-type {\n",
       "        vertical-align: middle;\n",
       "    }\n",
       "\n",
       "    .dataframe tbody tr th {\n",
       "        vertical-align: top;\n",
       "    }\n",
       "\n",
       "    .dataframe thead th {\n",
       "        text-align: right;\n",
       "    }\n",
       "</style>\n",
       "<table border=\"1\" class=\"dataframe\">\n",
       "  <thead>\n",
       "    <tr style=\"text-align: right;\">\n",
       "      <th></th>\n",
       "      <th>age</th>\n",
       "      <th>job</th>\n",
       "      <th>marital</th>\n",
       "      <th>education</th>\n",
       "      <th>default</th>\n",
       "      <th>balance</th>\n",
       "      <th>housing</th>\n",
       "      <th>loan</th>\n",
       "      <th>contact</th>\n",
       "      <th>day</th>\n",
       "      <th>month</th>\n",
       "      <th>duration</th>\n",
       "      <th>campaign</th>\n",
       "      <th>pdays</th>\n",
       "      <th>previous</th>\n",
       "      <th>poutcome</th>\n",
       "      <th>deposit</th>\n",
       "    </tr>\n",
       "  </thead>\n",
       "  <tbody>\n",
       "    <tr>\n",
       "      <th>6424</th>\n",
       "      <td>53.000000</td>\n",
       "      <td>management</td>\n",
       "      <td>married</td>\n",
       "      <td>primary</td>\n",
       "      <td>no</td>\n",
       "      <td>351</td>\n",
       "      <td>yes</td>\n",
       "      <td>no</td>\n",
       "      <td>unknown</td>\n",
       "      <td>27</td>\n",
       "      <td>may</td>\n",
       "      <td>0</td>\n",
       "      <td>4</td>\n",
       "      <td>-1</td>\n",
       "      <td>0</td>\n",
       "      <td>unknown</td>\n",
       "      <td>no</td>\n",
       "    </tr>\n",
       "    <tr>\n",
       "      <th>22937</th>\n",
       "      <td>40.924781</td>\n",
       "      <td>technician</td>\n",
       "      <td>married</td>\n",
       "      <td>secondary</td>\n",
       "      <td>no</td>\n",
       "      <td>5535</td>\n",
       "      <td>no</td>\n",
       "      <td>no</td>\n",
       "      <td>cellular</td>\n",
       "      <td>26</td>\n",
       "      <td>aug</td>\n",
       "      <td>0</td>\n",
       "      <td>15</td>\n",
       "      <td>-1</td>\n",
       "      <td>0</td>\n",
       "      <td>unknown</td>\n",
       "      <td>no</td>\n",
       "    </tr>\n",
       "    <tr>\n",
       "      <th>36425</th>\n",
       "      <td>31.000000</td>\n",
       "      <td>entrepreneur</td>\n",
       "      <td>married</td>\n",
       "      <td>secondary</td>\n",
       "      <td>no</td>\n",
       "      <td>162</td>\n",
       "      <td>yes</td>\n",
       "      <td>yes</td>\n",
       "      <td>cellular</td>\n",
       "      <td>11</td>\n",
       "      <td>may</td>\n",
       "      <td>0</td>\n",
       "      <td>2</td>\n",
       "      <td>-1</td>\n",
       "      <td>0</td>\n",
       "      <td>unknown</td>\n",
       "      <td>no</td>\n",
       "    </tr>\n",
       "  </tbody>\n",
       "</table>\n",
       "</div>"
      ],
      "text/plain": [
       "             age           job  marital  education default  balance housing  \\\n",
       "6424   53.000000    management  married    primary      no      351     yes   \n",
       "22937  40.924781    technician  married  secondary      no     5535      no   \n",
       "36425  31.000000  entrepreneur  married  secondary      no      162     yes   \n",
       "\n",
       "      loan   contact  day month  duration  campaign  pdays  previous poutcome  \\\n",
       "6424    no   unknown   27   may         0         4     -1         0  unknown   \n",
       "22937   no  cellular   26   aug         0        15     -1         0  unknown   \n",
       "36425  yes  cellular   11   may         0         2     -1         0  unknown   \n",
       "\n",
       "      deposit  \n",
       "6424       no  \n",
       "22937      no  \n",
       "36425      no  "
      ]
     },
     "execution_count": 38,
     "metadata": {},
     "output_type": "execute_result"
    }
   ],
   "source": [
    "#There are 3 rows with duration 0 which will cause an error in log function\n",
    "bank[(bank[\"duration\"]==0)]"
   ]
  },
  {
   "cell_type": "code",
   "execution_count": 39,
   "id": "5dee45b4-2e22-43bb-95f9-d625bfbb26f6",
   "metadata": {},
   "outputs": [],
   "source": [
    "bank[\"duration\"].replace(0,1,inplace=True)"
   ]
  },
  {
   "cell_type": "code",
   "execution_count": 40,
   "id": "1981a157-dde9-41f0-86e2-70bf3b5f86aa",
   "metadata": {},
   "outputs": [
    {
     "data": {
      "text/html": [
       "<div>\n",
       "<style scoped>\n",
       "    .dataframe tbody tr th:only-of-type {\n",
       "        vertical-align: middle;\n",
       "    }\n",
       "\n",
       "    .dataframe tbody tr th {\n",
       "        vertical-align: top;\n",
       "    }\n",
       "\n",
       "    .dataframe thead th {\n",
       "        text-align: right;\n",
       "    }\n",
       "</style>\n",
       "<table border=\"1\" class=\"dataframe\">\n",
       "  <thead>\n",
       "    <tr style=\"text-align: right;\">\n",
       "      <th></th>\n",
       "      <th>age</th>\n",
       "      <th>job</th>\n",
       "      <th>marital</th>\n",
       "      <th>education</th>\n",
       "      <th>default</th>\n",
       "      <th>balance</th>\n",
       "      <th>housing</th>\n",
       "      <th>loan</th>\n",
       "      <th>contact</th>\n",
       "      <th>day</th>\n",
       "      <th>month</th>\n",
       "      <th>duration</th>\n",
       "      <th>campaign</th>\n",
       "      <th>pdays</th>\n",
       "      <th>previous</th>\n",
       "      <th>poutcome</th>\n",
       "      <th>deposit</th>\n",
       "    </tr>\n",
       "  </thead>\n",
       "  <tbody>\n",
       "    <tr>\n",
       "      <th>6424</th>\n",
       "      <td>53.000000</td>\n",
       "      <td>management</td>\n",
       "      <td>married</td>\n",
       "      <td>primary</td>\n",
       "      <td>no</td>\n",
       "      <td>351</td>\n",
       "      <td>yes</td>\n",
       "      <td>no</td>\n",
       "      <td>unknown</td>\n",
       "      <td>27</td>\n",
       "      <td>may</td>\n",
       "      <td>1</td>\n",
       "      <td>4</td>\n",
       "      <td>-1</td>\n",
       "      <td>0</td>\n",
       "      <td>unknown</td>\n",
       "      <td>no</td>\n",
       "    </tr>\n",
       "    <tr>\n",
       "      <th>22937</th>\n",
       "      <td>40.924781</td>\n",
       "      <td>technician</td>\n",
       "      <td>married</td>\n",
       "      <td>secondary</td>\n",
       "      <td>no</td>\n",
       "      <td>5535</td>\n",
       "      <td>no</td>\n",
       "      <td>no</td>\n",
       "      <td>cellular</td>\n",
       "      <td>26</td>\n",
       "      <td>aug</td>\n",
       "      <td>1</td>\n",
       "      <td>15</td>\n",
       "      <td>-1</td>\n",
       "      <td>0</td>\n",
       "      <td>unknown</td>\n",
       "      <td>no</td>\n",
       "    </tr>\n",
       "    <tr>\n",
       "      <th>31740</th>\n",
       "      <td>39.000000</td>\n",
       "      <td>technician</td>\n",
       "      <td>divorced</td>\n",
       "      <td>secondary</td>\n",
       "      <td>no</td>\n",
       "      <td>17441</td>\n",
       "      <td>yes</td>\n",
       "      <td>yes</td>\n",
       "      <td>cellular</td>\n",
       "      <td>7</td>\n",
       "      <td>apr</td>\n",
       "      <td>1</td>\n",
       "      <td>1</td>\n",
       "      <td>-1</td>\n",
       "      <td>0</td>\n",
       "      <td>unknown</td>\n",
       "      <td>no</td>\n",
       "    </tr>\n",
       "    <tr>\n",
       "      <th>36425</th>\n",
       "      <td>31.000000</td>\n",
       "      <td>entrepreneur</td>\n",
       "      <td>married</td>\n",
       "      <td>secondary</td>\n",
       "      <td>no</td>\n",
       "      <td>162</td>\n",
       "      <td>yes</td>\n",
       "      <td>yes</td>\n",
       "      <td>cellular</td>\n",
       "      <td>11</td>\n",
       "      <td>may</td>\n",
       "      <td>1</td>\n",
       "      <td>2</td>\n",
       "      <td>-1</td>\n",
       "      <td>0</td>\n",
       "      <td>unknown</td>\n",
       "      <td>no</td>\n",
       "    </tr>\n",
       "    <tr>\n",
       "      <th>44758</th>\n",
       "      <td>28.000000</td>\n",
       "      <td>admin.</td>\n",
       "      <td>married</td>\n",
       "      <td>secondary</td>\n",
       "      <td>no</td>\n",
       "      <td>1595</td>\n",
       "      <td>no</td>\n",
       "      <td>no</td>\n",
       "      <td>unknown</td>\n",
       "      <td>9</td>\n",
       "      <td>sep</td>\n",
       "      <td>1</td>\n",
       "      <td>1</td>\n",
       "      <td>254</td>\n",
       "      <td>4</td>\n",
       "      <td>success</td>\n",
       "      <td>no</td>\n",
       "    </tr>\n",
       "  </tbody>\n",
       "</table>\n",
       "</div>"
      ],
      "text/plain": [
       "             age           job   marital  education default  balance housing  \\\n",
       "6424   53.000000    management   married    primary      no      351     yes   \n",
       "22937  40.924781    technician   married  secondary      no     5535      no   \n",
       "31740  39.000000    technician  divorced  secondary      no    17441     yes   \n",
       "36425  31.000000  entrepreneur   married  secondary      no      162     yes   \n",
       "44758  28.000000        admin.   married  secondary      no     1595      no   \n",
       "\n",
       "      loan   contact  day month  duration  campaign  pdays  previous poutcome  \\\n",
       "6424    no   unknown   27   may         1         4     -1         0  unknown   \n",
       "22937   no  cellular   26   aug         1        15     -1         0  unknown   \n",
       "31740  yes  cellular    7   apr         1         1     -1         0  unknown   \n",
       "36425  yes  cellular   11   may         1         2     -1         0  unknown   \n",
       "44758   no   unknown    9   sep         1         1    254         4  success   \n",
       "\n",
       "      deposit  \n",
       "6424       no  \n",
       "22937      no  \n",
       "31740      no  \n",
       "36425      no  \n",
       "44758      no  "
      ]
     },
     "execution_count": 40,
     "metadata": {},
     "output_type": "execute_result"
    }
   ],
   "source": [
    "bank[(bank[\"duration\"]<=1)]"
   ]
  },
  {
   "cell_type": "code",
   "execution_count": 41,
   "id": "22170770-ddb8-435e-851d-39493311878d",
   "metadata": {},
   "outputs": [
    {
     "data": {
      "text/plain": [
       "<seaborn.axisgrid.FacetGrid at 0x29ea4c3d880>"
      ]
     },
     "execution_count": 41,
     "metadata": {},
     "output_type": "execute_result"
    },
    {
     "data": {
      "image/png": "[encoded data removed]",
      "text/plain": [
       "<Figure size 446.125x360 with 1 Axes>"
      ]
     },
     "metadata": {
      "needs_background": "light"
     },
     "output_type": "display_data"
    }
   ],
   "source": [
    "sns.displot(bank, x=\"duration\", bins=30, hue=\"contact\",log_scale=True)"
   ]
  },
  {
   "cell_type": "markdown",
   "id": "db449401-7926-4ccd-b898-3ff8b41f1d1f",
   "metadata": {},
   "source": [
    "In the log scaled histogram, we can see this having a \"normal\" distribution"
   ]
  },
  {
   "cell_type": "markdown",
   "id": "280f44fe-2532-4e2c-b00c-4d997bf4c8dc",
   "metadata": {},
   "source": [
    "# Part 3"
   ]
  },
  {
   "cell_type": "code",
   "execution_count": 42,
   "id": "990005a5",
   "metadata": {},
   "outputs": [],
   "source": [
    "# Select only categorical columns\n",
    "categorical_cols = ['job', 'marital', 'education', 'default', 'housing', 'loan', 'contact', 'month', 'poutcome']\n",
    "bank_categorical = bank[categorical_cols]\n",
    "\n",
    "# One-hot encode categorical columns\n",
    "bank_encoded = pd.get_dummies(bank_categorical, drop_first=True)"
   ]
  },
  {
   "cell_type": "code",
   "execution_count": 43,
   "id": "060733d4",
   "metadata": {},
   "outputs": [
    {
     "name": "stdout",
     "output_type": "stream",
     "text": [
      "Accuracy: 0.8883114010837112\n",
      "Confusion Matrix:\n",
      "[[7790  162]\n",
      " [ 848  243]]\n",
      "Classification Report:\n",
      "              precision    recall  f1-score   support\n",
      "\n",
      "          no       0.90      0.98      0.94      7952\n",
      "         yes       0.60      0.22      0.32      1091\n",
      "\n",
      "    accuracy                           0.89      9043\n",
      "   macro avg       0.75      0.60      0.63      9043\n",
      "weighted avg       0.87      0.89      0.87      9043\n",
      "\n"
     ]
    },
    {
     "name": "stderr",
     "output_type": "stream",
     "text": [
      "C:\\Users\\Jason Tong\\anaconda3\\lib\\site-packages\\sklearn\\linear_model\\_logistic.py:763: ConvergenceWarning: lbfgs failed to converge (status=1):\n",
      "STOP: TOTAL NO. of ITERATIONS REACHED LIMIT.\n",
      "\n",
      "Increase the number of iterations (max_iter) or scale the data as shown in:\n",
      "    https://scikit-learn.org/stable/modules/preprocessing.html\n",
      "Please also refer to the documentation for alternative solver options:\n",
      "    https://scikit-learn.org/stable/modules/linear_model.html#logistic-regression\n",
      "  n_iter_i = _check_optimize_result(\n"
     ]
    }
   ],
   "source": [
    "# Combine one-hot encoded columns with the original DataFrame\n",
    "bank = pd.concat([bank, bank_encoded], axis=1)\n",
    "\n",
    "# Drop the original categorical columns\n",
    "bank.drop(categorical_cols, axis=1, inplace=True)\n",
    "\n",
    "# Define features (X) and target variable (y)\n",
    "X = bank.drop('deposit', axis=1)\n",
    "y = bank['deposit']\n",
    "\n",
    "# Train-test split\n",
    "X_train, X_test, y_train, y_test = train_test_split(X, y, test_size=0.2, random_state=42)\n",
    "\n",
    "# Choose a model (Logistic Regression)\n",
    "model = LogisticRegression()\n",
    "\n",
    "# Train the model\n",
    "model.fit(X_train, y_train)\n",
    "\n",
    "# Make predictions\n",
    "y_pred = model.predict(X_test)\n",
    "\n",
    "# Evaluate the model\n",
    "accuracy = accuracy_score(y_test, y_pred)\n",
    "conf_matrix = confusion_matrix(y_test, y_pred)\n",
    "classification_rep = classification_report(y_test, y_pred)\n",
    "\n",
    "# Print the results\n",
    "print(f'Accuracy: {accuracy}')\n",
    "print(f'Confusion Matrix:\\n{conf_matrix}')\n",
    "print(f'Classification Report:\\n{classification_rep}')"
   ]
  },
  {
   "cell_type": "markdown",
   "id": "98cd761f",
   "metadata": {},
   "source": [
    "The accuracy represents the overall correctness of the model's predictions. In this case, approximately 88.54% of predictions are correct. \n",
    "\n",
    "[[7784  168]\n",
    " [ 868  223]]\n",
    "True Positive (TP): 223 (correctly predicted 'yes')\n",
    "True Negative (TN): 7784 (correctly predicted 'no')\n",
    "False Positive (FP): 168 (incorrectly predicted 'yes' when it was 'no')\n",
    "False Negative (FN): 868 (incorrectly predicted 'no' when it was 'yes')\n",
    "\n",
    "             precision    recall  f1-score   support\n",
    "\n",
    "       no       0.90      0.98      0.94      7952\n",
    "      yes       0.57      0.20      0.30      1091\n",
    "Precision: Of the instances predicted as 'yes', 57% were correct.\n",
    "Recall: Of the actual 'yes' instances, 20% were correctly predicted.\n",
    "F1-score: The harmonic mean of precision and recall, providing a balance between the two metrics.\n",
    "\n",
    "The model performs well in predicting instances labeled as 'no,' with high precision and recall.\n",
    "However, the performance on predicting instances labeled as 'yes' is not as strong, with lower precision and recall.\n",
    "The weighted average F1-score is 0.86, indicating an overall reasonable balance between precision and recall.\n",
    "\n",
    "Depending on the specific goals and context of your application, you might want to adjust the model or explore other algorithms to improve performance on the minority class ('yes').\n",
    "\n",
    "Overall, the accuracy is relatively high, but it's essential to consider the context and specific requirements of your application to determine the most appropriate model evaluation metrics."
   ]
  }
 ],
 "metadata": {
  "kernelspec": {
   "display_name": "Python 3",
   "language": "python",
   "name": "python3"
  },
  "language_info": {
   "codemirror_mode": {
    "name": "ipython",
    "version": 3
   },
   "file_extension": ".py",
   "mimetype": "text/x-python",
   "name": "python",
   "nbconvert_exporter": "python",
   "pygments_lexer": "ipython3",
   "version": "3.8.8"
  }
 },
 "nbformat": 4,
 "nbformat_minor": 5
}
